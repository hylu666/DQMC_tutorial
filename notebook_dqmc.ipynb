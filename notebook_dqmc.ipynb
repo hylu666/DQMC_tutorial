{
 "cells": [
  {
   "cell_type": "markdown",
   "metadata": {},
   "source": [
    "# DQMC (Determinant Quantum Monte-Carlo) \n",
    "Last edited, May 2022\n",
    "by Mr. Song Menghan\n",
    "\n",
    "\n",
    "Any suggestions and bugs, [send an email.](songmh@connect.hku.hk)"
   ]
  },
  {
   "cell_type": "markdown",
   "metadata": {},
   "source": [
    "This is a sample code for simulating square lattice Hubbard model using DQMC. The notebook is written with the reference of Dr. Bin Bin Chen, Mr. Li Chuhao and Mr. Hongyu Lu. \n",
    "\n",
    "For detailed analytical derivation, please check [the note written by Mr. Gaopei Pan](https://quantummc.xyz/2020/10/11/dqmc-note/). \n",
    "\n",
    "\n",
    "Here is another nice note which outlines the algorithm written by Richard T. Scalettar in UCD, [a note written by Richard](https://scalettar.physics.ucdavis.edu/michigan/howto1.pdf). \n"
   ]
  },
  {
   "cell_type": "markdown",
   "metadata": {},
   "source": [
    "### Hamiltonian & Partition function\n"
   ]
  },
  {
   "cell_type": "markdown",
   "metadata": {},
   "source": [
    "Use square-lattice Hubbard model as an example here. \n",
    "\n",
    "\n",
    "The half-filling Hamiltonian is (we consider $U>0$, the repulsive interaction here): $$H=-t\\mathop{\\sum}\\limits_{<i,j>\\sigma}c_{i\\sigma}^\\dagger c_{j\\sigma}+h.c.+U\\mathop{\\sum}\\limits_i (n_{i\\uparrow}-\\frac{1}{2})(n_{i\\downarrow}-\\frac{1}{2})=H_T+H_V.$$\n",
    "\n",
    "With the Trotter decomposition, \n",
    "$$\n",
    "\\begin{equation}\n",
    "    e^{-\\varDelta\\tau H} = e^{-\\varDelta\\tau H_V}e^{-\\varDelta\\tau H_T} + O[(\\varDelta\\tau)^2]\n",
    "\\end{equation}\n",
    "$$\n",
    "the partition function is written as  $$Tr\\{e^{-\\beta H}\\}=Tr\\{(e^{-\\Delta\\tau H})^{L_\\tau}\\}$$\n",
    "\n",
    "The kinetic part involves two fermion operators, i.e. it is a quadratic form. And in it, the sum for spin-up and spin-down are the same and for example it can be expressed as :\n",
    "$$ H_V = \\sum_{i} H_U$$\n",
    "$$H_0=c^\\dagger_\\uparrow T c_\\uparrow=-t\\mathop{\\sum}\\limits_{<i,j>}c_{i\\uparrow}^\\dagger c_{j\\uparrow}+h.c. $$ \n",
    "\n",
    "However, the interaction term has four fermion operators in it, i.e. non quadratic.It can be expressed as :\n",
    "$$H_U=U\\mathop (n_{i\\uparrow}-\\frac{1}{2})(n_{i\\downarrow}-\\frac{1}{2})=-\\frac{U}{2}(n_\\uparrow-n_\\downarrow)^2+\\frac{U}{4}$$For details, check [PhysRevB.7.432](https://journals.aps.org/prb/abstract/10.1103/PhysRevB.7.432/).  \n",
    "We can do HS transformation to write it into a quadratic form: $$e^{-\\Delta\\tau H_U}=\\gamma\\sum_{s=\\pm 1}e^{\\alpha s(n_\\uparrow-n_\\downarrow)},$$ with $\\gamma=\\frac{1}{2}e^{-\\Delta\\tau U/4}$, and $\\cosh(\\alpha)=e^{\\Delta\\tau U/2}$.\n",
    "\n",
    "Therefore, the expanded partition function is:\n",
    "$$Z=\\sum_{s_{i, l}=\\pm 1}\\gamma^{NL_\\tau}Tr_F\\{ \\prod_{l=1}^{L_\\tau}[(\\prod_ie^{\\alpha s_{i,l}n_{i\\uparrow}})(e^{-\\Delta\\tau c_\\uparrow^\\dagger T c_\\uparrow})(\\prod_ie^{-\\alpha s_{i,l}n_{i\\downarrow}})(e^{-\\Delta\\tau c_\\downarrow^\\dagger T c_\\downarrow}) ]\\}\\\\ =\\gamma^{NL_\\tau}\\sum_{s_{i,l}}\\prod_{\\sigma=\\uparrow\\downarrow}Det[I+B^\\sigma(L_\\tau\\Delta\\tau,(L_\\tau-1)\\Delta\\tau)\\dots B^\\sigma(\\Delta\\tau,0)]$$\n",
    "where $B^{\\sigma=\\uparrow,\\downarrow}(l_2\\Delta\\tau,l_1\\Delta\\tau)=\\prod_{l=l_1+1}^{l_2}e^{\\alpha Diag(\\vec S_l)}e^{-\\Delta\\tau T}$ and Diag($\\vec S_l$) is a diagonal matrix with the diagonal elements being $s_{i,l}$.\n",
    "\n"
   ]
  },
  {
   "cell_type": "markdown",
   "metadata": {},
   "source": [
    "### Turn trace into determinant\n",
    "\n",
    "We have successfully transform the original Hamiltonian into a form in whcih all terms are quadratic. The reason we do this is that when computing the trace of a quadratic form of fermion operator on the exponent like $e^{c^\\dagger A c}$, we can always convert it into a determinant. Mathematically,\n",
    "\n",
    "$$\n",
    "\\begin{equation}\n",
    "\\operatorname{Tr}\\left[e^{-\\sum_{i, j} \\hat{c}_{i}^{\\dagger} A_{i, j} \\hat{c}_{j}}\\right]=\\operatorname{Det}\\left[\\mathbf{1}+e^{-\\mathbf{A}}\\right].\n",
    "\\end{equation}\n",
    "$$\n",
    "\n",
    "The proof and generalization could be found at [the 2nd part of The Note by Mr. Pan](https://quantummc.xyz/dqmc-note/part-2-starting-from-hubbard-model/). \n",
    "\n",
    "$$\n",
    "\\begin{equation}\\operatorname{Tr}\\left[e^{-\\sum_{i, j} c_{i}^{\\dagger} A_{i, j} c_{j}} e^{-\\sum_{i, j} c_{i}^{\\dagger} B_{i, j} c_{j}}\\right]=\\operatorname{Det}\\left[\\mathbf{1}+e^{-\\mathbf{A}} e^{-\\mathbf{B}}\\right]\\end{equation}\n",
    "$$\n",
    "\n",
    "The $\\mathbf{A}$ and the $\\mathbf{B}$ here could be regarded as $\\mathbf{H_K}$ and the $\\mathbf{H_V}$ in the Hamiltonian."
   ]
  },
  {
   "cell_type": "code",
   "execution_count": 1,
   "metadata": {},
   "outputs": [],
   "source": [
    "import numpy as np\n",
    "import sys\n",
    "import scipy\n",
    "from scipy import linalg\n",
    "import os"
   ]
  },
  {
   "cell_type": "markdown",
   "metadata": {},
   "source": [
    "### The kinetic matrix\n"
   ]
  },
  {
   "cell_type": "markdown",
   "metadata": {},
   "source": [
    "$$H_K=-t\\mathop{\\sum}\\limits_{<i,j>\\sigma}c_{i\\sigma}^\\dagger c_{j\\sigma}.$$\n",
    "\n",
    "Here the $<i,j>$ represents the nearest neighbour interaction, and $\\sigma = \\uparrow, \\downarrow$ represent the spin up and down. We write the term into its matrix form.\n",
    "\n",
    "$$\n",
    "-t \\sum_{<ij>} (c^\\dagger_{i\\uparrow} c_{j\\uparrow} + c^{\\dagger}_{j\\uparrow}c_{i\\uparrow}) = \\boldsymbol{c}_\\uparrow^\\dagger T \\boldsymbol{c}_\\uparrow\n",
    "$$\n",
    "\n",
    "Matrix $T$ contains an element $-t$ at position $(i,j)$ if row i and column j are nearest neighbours and elements $-\\mu$ on diagonal. The following code is to compute the kinetic matrix, $T$. ($\\mu$ is set to zero for half-fill case and letter $K$ replacing $T$ for the kinetic matrix)"
   ]
  },
  {
   "cell_type": "code",
   "execution_count": 2,
   "metadata": {},
   "outputs": [],
   "source": [
    "def cart_coord(i,Lx): # i is the site index starts from 1.\n",
    "    ix = i % Lx     \n",
    "    iy = i//Lx + 1\n",
    "    if i % Lx == 0: \n",
    "        iy -= 1\n",
    "        ix = Lx\n",
    "    return ix,iy\n",
    "\n",
    "def linear_index(ix,iy,Lx):  #output linear index starts from 1.\n",
    "    return int((iy-1)*Lx+ix)\n",
    "\n",
    "\n",
    "def Neighbor(index,Lx,Ly):\n",
    "    ix,iy=cart_coord(index,Lx)\n",
    "    up_y = iy - 1\n",
    "    if up_y <1:\n",
    "        up_y=Ly\n",
    "    up = linear_index(ix,up_y,Lx)\n",
    "    \n",
    "    down_y = iy+1\n",
    "    if down_y > Ly:\n",
    "        down_y = 1\n",
    "    down=linear_index(ix,down_y,Lx)\n",
    "    \n",
    "    left_x=ix-1\n",
    "    if left_x < 1:\n",
    "        left_x = Lx\n",
    "    left = linear_index(left_x,iy,Lx)\n",
    "    \n",
    "    right_x = ix+1\n",
    "    if right_x > Lx:\n",
    "        right_x = 1\n",
    "    right = linear_index(right_x,iy,Lx)\n",
    "    return up,down,left,right\n",
    "\n",
    "def gen_auxf(MatDim,N_time_slice):\n",
    "    auxf = np.zeros((MatDim,N_time_slice),dtype=int)\n",
    "    for i in range(MatDim):\n",
    "        for j in range(N_time_slice):\n",
    "            auxf[i][j]= int(2*int(2*np.random.random())-1)\n",
    "    return auxf\n",
    "\n",
    "def K(Lx,Ly,t):\n",
    "    MatDim = Lx*Ly\n",
    "    N_pc = Lx*Ly\n",
    "    K_mat = np.zeros((MatDim,MatDim))\n",
    "    for i in range(N_pc):\n",
    "        down = Neighbor(i+1,Lx,Ly)[1]-1\n",
    "        right = Neighbor(i+1,Lx,Ly)[3]-1\n",
    "        K_mat[i][down]-=t\n",
    "        K_mat[down][i]-=t\n",
    "        K_mat[i][right]-=t\n",
    "        K_mat[right][i]-=t\n",
    "    return K_mat\n"
   ]
  },
  {
   "cell_type": "code",
   "execution_count": 3,
   "metadata": {
    "scrolled": true
   },
   "outputs": [
    {
     "data": {
      "text/plain": [
       "(array([[ 0., -2., -2.,  0.],\n",
       "        [-2.,  0.,  0., -2.],\n",
       "        [-2.,  0.,  0., -2.],\n",
       "        [ 0., -2., -2.,  0.]]),\n",
       " array([[ 0., -1., -1., -1.,  0.,  0., -1.,  0.,  0.],\n",
       "        [-1.,  0., -1.,  0., -1.,  0.,  0., -1.,  0.],\n",
       "        [-1., -1.,  0.,  0.,  0., -1.,  0.,  0., -1.],\n",
       "        [-1.,  0.,  0.,  0., -1., -1., -1.,  0.,  0.],\n",
       "        [ 0., -1.,  0., -1.,  0., -1.,  0., -1.,  0.],\n",
       "        [ 0.,  0., -1., -1., -1.,  0.,  0.,  0., -1.],\n",
       "        [-1.,  0.,  0., -1.,  0.,  0.,  0., -1., -1.],\n",
       "        [ 0., -1.,  0.,  0., -1.,  0., -1.,  0., -1.],\n",
       "        [ 0.,  0., -1.,  0.,  0., -1., -1., -1.,  0.]]))"
      ]
     },
     "execution_count": 3,
     "metadata": {},
     "output_type": "execute_result"
    }
   ],
   "source": [
    "K(2,2,t=1),K(3,3,t=1)"
   ]
  },
  {
   "cell_type": "markdown",
   "metadata": {},
   "source": [
    "Note that for the non-interacting case (U =0), \n",
    "$$\n",
    "H_K=-t\\mathop{\\sum}\\limits_{<i,j>\\sigma}c_{i\\sigma}^\\dagger c_{j\\sigma}.\n",
    "$$\n",
    "We have the single-particle eigenenergy,\n",
    "$$\n",
    "\\varepsilon_k = -2t(cosk_x+cosk_y).\n",
    "$$\n",
    "\n",
    "This is nothing but the eigenenergy of the tight binding Hamiltonian with the nearest neighbour interaction. We can plot this band and the fermi-surfaces. For a half-filled band, the fermi-surface is a diamond."
   ]
  },
  {
   "cell_type": "code",
   "execution_count": 24,
   "metadata": {},
   "outputs": [
    {
     "data": {
      "image/png": "[encoded data removed]",
      "text/plain": [
       "<Figure size 432x288 with 2 Axes>"
      ]
     },
     "metadata": {
      "needs_background": "light"
     },
     "output_type": "display_data"
    }
   ],
   "source": [
    "from mpl_toolkits.mplot3d import Axes3D\n",
    "import matplotlib.pyplot as plt\n",
    "from matplotlib import cm\n",
    "from matplotlib.ticker import LinearLocator, FormatStrFormatter\n",
    "\n",
    "fig = plt.figure()\n",
    "ax = fig.gca(projection='3d')\n",
    "# Make data.\n",
    "X = np.arange(-np.pi, np.pi, 0.1)\n",
    "Y = np.arange(-np.pi, np.pi, 0.1)\n",
    "X, Y = np.meshgrid(X, Y)\n",
    "Z = -2*(np.cos(X)+np.cos(Y))\n",
    "# Plot the surface.\n",
    "surf = ax.plot_surface(X, Y, Z, cmap=cm.coolwarm,linewidth=0, antialiased=False)\n",
    "cset = ax.contour(X, Y, Z, zdir='z', offset=-4, cmap=cm.coolwarm)\n",
    "ax.zaxis.set_major_locator(LinearLocator(10))\n",
    "ax.zaxis.set_major_formatter(FormatStrFormatter('%.0f'))\n",
    "ax.set_xlabel('$k_x$')\n",
    "ax.set_ylabel('$k_y$')\n",
    "# Add a color bar which maps values to colors.\n",
    "fig.colorbar(surf, shrink=0.5, aspect=10)\n",
    "plt.show()\n"
   ]
  },
  {
   "cell_type": "markdown",
   "metadata": {},
   "source": [
    "### Interaction part"
   ]
  },
  {
   "cell_type": "markdown",
   "metadata": {},
   "source": [
    "We have defined the $B$ matrix which occurs in the trace,\n",
    "\n",
    "\n",
    "$$\n",
    "B_\\tau^\\sigma = B^{\\sigma}(\\tau \\varDelta\\tau,(\\tau-1) \\varDelta\\tau) = e^{\\alpha S_l} e^{-\\varDelta\\tau T}\n",
    "$$\n",
    "\n",
    "\n",
    "Below is to compute the $e^{\\alpha S_l}$ term in the $B_\\tau^\\sigma$. Since $S_l$ is a diagonal matrix with HS field value $+1 or -1$ at diagonal. The matrix $e^{\\alpha S_l}$ is also diagonal. For convinience, we store all the diagonal elements for a time slice $l$ into the $l^{th}$ column of an $N$ by $L$ matrix, $N$ is the total sites, $L$ is the imaginary time length."
   ]
  },
  {
   "cell_type": "code",
   "execution_count": 4,
   "metadata": {},
   "outputs": [],
   "source": [
    "def ExpV(S,spin,alpha):\n",
    "    '''Construct the length-N vector exp(spin*alpha*S(:,l)) for every spin\n",
    "    Each length N vector stands for a diagonal matrix of size N-by-N\n",
    "    There are totally L such matrices.\n",
    "    For efficiency, store information for all L matrices in one N-by-L 2D\n",
    "    array. Each column represents a different diagonal matrix expV\n",
    "    Args: \n",
    "        S = (N,L) matrix, current H-S field configuration\n",
    "        spin = 1 or -1, representing up or down spin\n",
    "        alpha\n",
    "    Outputs:\n",
    "        (N,L) matrix storing exp(V(l,spin)) data'''\n",
    "    \n",
    "    if spin!=-1 and spin!=1:\n",
    "        print('spin value must be +1 or -1!!!')\n",
    "        sys.exit()\n",
    "    else:\n",
    "        Diags = np.exp(S*spin*alpha)\n",
    "        return Diags\n",
    "    \n",
    "    \n",
    "    "
   ]
  },
  {
   "cell_type": "markdown",
   "metadata": {},
   "source": [
    "Below is an optional step with higher order Trotter decomposition to wrap the Green function for higher precision."
   ]
  },
  {
   "cell_type": "code",
   "execution_count": 5,
   "metadata": {},
   "outputs": [],
   "source": [
    "def Half_Wrap(GF,Expdt_HalfK,InvExpdt_HalfK):\n",
    "    '''Produce symmetric Trotter decomp version of GF from asymmetric version\n",
    "    Args:\n",
    "        G, unwrapped GF matrix used in simulation\n",
    "        Expdt_HalfK, exp(dt*KMatrix/2)\n",
    "        InvExpdt_HalfK, exp(-dt*KMatrix/2)\n",
    "    Outputs:\n",
    "        (N,N) wrapped GF matrix'''\n",
    "    GF=np.dot(np.dot(Expdt_HalfK,GF),InvExpdt_HalfK)\n",
    "    return GF"
   ]
  },
  {
   "cell_type": "markdown",
   "metadata": {},
   "source": [
    "The 'circshift' function is used to shift the columns in the $N\\times L$ matrix, returned by $ExpV()$. Therefore, we only need to apply $circshift(\\tau)$ to the $ExpV()$ and follow the same computing procedure to obtain $G(\\tau,\\tau)$."
   ]
  },
  {
   "cell_type": "code",
   "execution_count": 6,
   "metadata": {},
   "outputs": [],
   "source": [
    "def circshift(u,shiftnum1,shiftnum2):\n",
    "    '''shift the row or column of a matrix\n",
    "    shiftnum1: shift row\n",
    "    shiftnum2: shift column\n",
    "    +:up to down, left to right\n",
    "    -:down to up, right to left'''\n",
    "    h,w = u.shape\n",
    "    if shiftnum1 < 0:\n",
    "        u = np.vstack((u[-shiftnum1:,:],u[:-shiftnum1,:]))\n",
    "    else:\n",
    "        u = np.vstack((u[(h-shiftnum1):,:],u[:(h-shiftnum1),:]))\n",
    "    if shiftnum2 > 0:\n",
    "        u = np.hstack((u[:, (w - shiftnum2):], u[:, :(w - shiftnum2)]))\n",
    "    else:\n",
    "        u = np.hstack((u[:,-shiftnum2:],u[:,:-shiftnum2]))\n",
    "    return u\n"
   ]
  },
  {
   "cell_type": "markdown",
   "metadata": {},
   "source": [
    "### Numerical stabilization"
   ]
  },
  {
   "cell_type": "markdown",
   "metadata": {},
   "source": [
    "See [the 4th part of The Note by Mr. Pan](https://quantummc.xyz/dqmc-note/part-4-numerical-stability-and-sign-problem/) for details.\n",
    "\n",
    "Using pivot QR decomposition to compute the Green function.\n",
    "\n",
    "\n",
    "$$\n",
    "\\begin{equation}\n",
    "G(\\tau, \\tau)=[\\mathbf{1}+B(\\tau, 0) B(\\beta, \\tau)]^{-1} \n",
    "\\end{equation}\n",
    "$$\n",
    "\n",
    "\n",
    "Different from the way in the note in which we decompose $B(\\tau, 0)$ and $B(\\beta, \\tau)$ seperately, here we compute the $B(\\tau, 0) B(\\beta, \\tau)$ as a whole. $B(\\tau, 0) B(\\beta, \\tau)$ is a $L$ matrices product string. For convenience, we do not QR decompose each $B(\\tau,\\tau+\\delta\\tau)$ matrix here, but decompose a number of $B$ matrices (BatchSize) directly multipy together.\n",
    "\n",
    "The pivot QR decoomposition does the following, \n",
    "$$\n",
    "\\begin{equation}\n",
    "B(...) = QRP^{-1} = QDD^{-1}RP^{-1}=QDT\n",
    "\\end{equation}\n",
    "$$\n",
    "where $T\\equiv D^{-1}RP^{-1}$, $D=diag(abs(R))$ is a diagonal matrix, $P$ is a permutation matrix that permutes the column of the preceding one. In code, $RP^{-1}$ is computed as 'R[:,InvP]' and 'InvP = P.argsort()'."
   ]
  },
  {
   "cell_type": "code",
   "execution_count": 7,
   "metadata": {},
   "outputs": [],
   "source": [
    "def MakeGMatrix_QR(ExpVData,InvExpdtK,LShift,BatchSize):\n",
    "    '''Calculate equal-time green function matrix from scratch using Pivote\n",
    "    -QR to stablize the simulation\n",
    "    Args:\n",
    "        ExpVData:  N-by-L 2D matrix, V matrix data (depends on current H-S field)\n",
    "                    Each column is exp(spin*lmbd*S(:,l))\n",
    "        InvExpdtK: inverse of exp(dt*KMatrix)\n",
    "                   i.e. exp(-dt*KMatrix)\n",
    "        LShift:    Account for change in GF definition after l wraps\n",
    "               e.g. 0 means no wraping\n",
    "        BatchSize: Number of B matrices to directly multiply together.\n",
    "               e.g. 10 for a typical safe value\n",
    "    Outputs:\n",
    "        GF: N-by-N equal-time GF matrix\n",
    "        Sign: +1 or -1, sign of determinant of this GF matrix\n",
    "    '''\n",
    "    N,L=np.shape(ExpVData)\n",
    "    #shift the column of expV matrix to left, so that we deal with the l-th\n",
    "    #Im time in the 1-st column of expV.\n",
    "    ExpVData = circshift(ExpVData,0,-LShift)\n",
    "    # divide into batches to reduce number of QR decomposition we have to do\n",
    "    if np.mod(L,BatchSize)!=0:\n",
    "        print('BatchSize and L do not suit!!!')\n",
    "        sys.exit()\n",
    "    NumBatches = int(L/BatchSize)\n",
    "    \n",
    "    BMats = np.zeros([NumBatches,N,N])\n",
    "    # form every batch by normal matrix multiplication\n",
    "    for jj in range(NumBatches):\n",
    "        Datajj = ExpVData[:,jj*BatchSize:(jj+1)*BatchSize]\n",
    "        BMat = np.eye(N)\n",
    "        # form B((jj+1)*b)*...*B(jj*b) by multiplying right to left\n",
    "        for ll in range(np.shape(Datajj)[1]):\n",
    "            BMat = np.dot(np.dot(InvExpdtK,np.diag(Datajj[:,ll])),BMat)\n",
    "        BMats[jj,:,:]=BMat\n",
    "    #Now! go through BMats and calculate matrix products\n",
    "    # N.B.!, to increase numerical stability, use three output, [Q,R,Perm] to\n",
    "    # trigger pivoting QR\n",
    "    Q,R,P = scipy.linalg.qr(BMats[0,:,:], pivoting=True)\n",
    "    InvP = P.argsort()\n",
    "    D = np.abs(np.diag(R))\n",
    "    T = np.dot(np.diag(1/D),R[:,InvP])\n",
    "    \n",
    "    \n",
    "    for ll in range(1,NumBatches):\n",
    "        # ll-th B matrix Batch\n",
    "        C = np.dot(np.dot(BMats[ll,:,:],Q),np.diag(D))\n",
    "        Q,R,P = scipy.linalg.qr(C, pivoting=True)\n",
    "        InvP = P.argsort()\n",
    "        D = np.abs(np.diag(R))\n",
    "        T = np.dot(np.dot(np.diag(1/D),R[:,InvP]),T)\n",
    "    \n",
    "    # Post Processing\n",
    "    # elementwise product, Db*Ds=D\n",
    "    Db = D.copy()\n",
    "    Ds = D.copy()\n",
    "    for x in range(np.shape(D)[0]):\n",
    "        if Db[x]<1:\n",
    "            Db[x]=1\n",
    "        if Ds[x]>1:\n",
    "            Ds[x]=1\n",
    "   \n",
    "    #results\n",
    "    lft = np.linalg.inv(np.dot(np.diag(1/Db),Q.T)+np.dot(np.diag(Ds),T))\n",
    "    rgt = np.dot(np.diag(1/Db),Q.T)\n",
    "    GF = np.dot(lft,rgt)\n",
    "    \n",
    "     \n",
    "    Extra = np.dot(Q.T,(np.dot(np.diag(1/Db),Q.T)+np.dot(np.diag(Ds),T)))\n",
    "    DetExtra = np.linalg.det(Extra)\n",
    "    Sign = np.sign(DetExtra)\n",
    "    return GF,Sign"
   ]
  },
  {
   "cell_type": "markdown",
   "metadata": {},
   "source": [
    "\n",
    "\n",
    "We can measure the staggered structure factor at $Q=(\\pi,\\pi)$ $$S(\\pi,\\pi)=\\frac{1}{N}\\sum_{ij}e^{-i\\textbf{Q}=(\\pi,\\pi))(\\textbf{r}_i-\\textbf{r}_j)}\\langle s_i^zs_j^z\\rangle=\\frac{1}{4N}\\sum_{ij}(-)^{i-j}(\\langle n_{i\\uparrow}n_{j\\uparrow} \\rangle+\\langle n_{i\\downarrow}n_{j\\downarrow} \\rangle-\\langle n_{i\\uparrow}n_{j\\downarrow} \\rangle-\\langle n_{i\\downarrow}n_{j\\uparrow} \\rangle), $$\n",
    "where $s_i^z=\\frac{1}{2}(n_{i\\uparrow}-n_{i\\downarrow})$, $(-)^{i-j}$ is $+1$ if i and j are on the same sublattice, but $-1$ if not. $\\frac{1}{2}$ here is to normalize the $S_z$ component to $\\pm1/2$. There is a $N$ at the denominator because we sum up the correlation observed at each site as a reference point. (Note that a different definition of $S(Q)$ may not include $N$ at the denominator, in that case one only measures the correlation at a fixed site, $i$.) \n",
    "\n",
    "From Wick's theorem\n",
    "\n",
    "$\\langle n_{i\\uparrow}n_{j\\uparrow}\\rangle = (1-G_{\\uparrow}(i,i))(1-G_{\\uparrow}(j,j))+(\\delta_{i,j}-G_{\\uparrow}(j,i))(G_{\\uparrow}(i,j))$, $\\delta_{i,j}=0$ if $i\\ne j$ and $\\delta_{i,j}=1$ if $i= j$\n",
    "\n",
    "$\\langle n_{i\\uparrow}n_{j\\downarrow}\\rangle = \\langle n_{i\\uparrow}\\rangle \\langle n_{j\\downarrow}\\rangle = (1-G_{\\uparrow}(i,i))(1-G_{\\downarrow}(j,j))$\n",
    "\n",
    "Below is to define the sublattice to determine the value of $(-)^{i-j}$"
   ]
  },
  {
   "cell_type": "code",
   "execution_count": 8,
   "metadata": {},
   "outputs": [],
   "source": [
    "def MakeSublattice(Lx,Ly):\n",
    "    N_pc=Lx*Ly\n",
    "    sub_A=np.zeros(int(N_pc/2))\n",
    "    sub_B=np.zeros(int(N_pc/2))\n",
    "    sub_indexa=0\n",
    "    sub_indexb=0\n",
    "    for subix in range(Lx):\n",
    "        for subiy in range(Ly):\n",
    "            if np.mod(subix+subiy+1,2)==0:\n",
    "                sub_A[sub_indexa]=subix+subiy*Ly\n",
    "                sub_indexa=sub_indexa+1\n",
    "            else:\n",
    "                sub_B[sub_indexb]=subix+subiy*Ly\n",
    "                sub_indexb=sub_indexb+1\n",
    "    return sub_A, sub_B"
   ]
  },
  {
   "cell_type": "code",
   "execution_count": 9,
   "metadata": {},
   "outputs": [
    {
     "data": {
      "text/plain": [
       "(array([ 4., 12.,  1.,  9.,  6., 14.,  3., 11.]),\n",
       " array([ 0.,  8.,  5., 13.,  2., 10.,  7., 15.]))"
      ]
     },
     "execution_count": 9,
     "metadata": {},
     "output_type": "execute_result"
    }
   ],
   "source": [
    "A,B = MakeSublattice(4,4)\n",
    "A,B"
   ]
  },
  {
   "cell_type": "markdown",
   "metadata": {},
   "source": [
    "Here we compute the $S(\\pi,\\pi)$"
   ]
  },
  {
   "cell_type": "code",
   "execution_count": null,
   "metadata": {},
   "outputs": [],
   "source": [
    "def Getspipi(Lx,Ly,Gup00,Gdn00):\n",
    "    spipi=0\n",
    "    sub_A, sub_B = MakeSublattice(Lx,Ly)\n",
    "    N_pc=Lx*Ly\n",
    "    for i in range(N_pc):\n",
    "        for j in range(N_pc):\n",
    "            if i==j:\n",
    "                kro=1\n",
    "            else:\n",
    "                kro=0\n",
    "            if (i in sub_A)==(j in sub_A) or (i in sub_B)==(j in sub_B):\n",
    "                spipi+=(1-Gup00[i,i])*(1-Gup00[j,j])+(kro-Gup00[j,i])*Gup00[i,j]+(1-Gdn00[i,i])*(1-Gdn00[j,j])+(kro-Gdn00[j,i])*Gdn00[i,j]-(1-Gup00[i,i])*(1-Gdn00[j,j])-(1-Gdn00[i,i])*(1-Gup00[j,j])\n",
    "            else:\n",
    "                spipi-=(1-Gup00[i,i])*(1-Gup00[j,j])+(kro-Gup00[j,i])*Gup00[i,j]+(1-Gdn00[i,i])*(1-Gdn00[j,j])+(kro-Gdn00[j,i])*Gdn00[i,j]-(1-Gup00[i,i])*(1-Gdn00[j,j])-(1-Gdn00[i,i])*(1-Gup00[j,j])\n",
    "    spipi = spipi/(4*N_pc)\n",
    "    return spipi\n",
    "                \n",
    "                \n",
    "                "
   ]
  },
  {
   "cell_type": "markdown",
   "metadata": {},
   "source": [
    "### Monte Carlo Sampling\n",
    "\n",
    "Starting the sampling, we first randomly generate an auxiliary field $S_l$ and consider to flip the field layer by layer along the imaginary time, from $\\tau = 0$ to $\\tau=\\beta$. For example, at time slice $\\tau$, we consider to filp 'Ising spins' to generate a new configuration. For flipping one Ising spin, the ratio of acceptance is given by:\n",
    "$$\n",
    "\\begin{equation}\n",
    "    R = \\prod_{\\sigma} \\det \\left[ I + \\Delta^{\\sigma}(i,r) G^{\\sigma}(\\tau,\\tau) \\right] \\\\\n",
    "     = \\prod_{\\sigma} (I + \\Delta^{\\sigma}_{ii}(i,\\tau)(I - G_{ii}^{\\sigma}(\\tau,\\tau))),\n",
    "\\end{equation}\n",
    "$$\n",
    "where\n",
    "$$\n",
    "   \\begin{equation}\n",
    "      \\Delta = e^{\\alpha  \\mathrm{Diag}[S']} e^{-\\alpha \\mathrm{Diag}[S]} - I.\n",
    "   \\end{equation}\n",
    "$$\n",
    "And after one flip, we also need to update the Green's function,\n",
    "$$\n",
    "\\begin{equation}\n",
    "    G^{\\sigma}(\\tau,\\tau)' = G^{\\sigma}(\\tau,\\tau) - \\frac{1}{R^{\\sigma}} \\Delta^{\\sigma}(i,\\tau) (I-G^{\\sigma}(\\tau,\\tau)).\n",
    "\\end{equation}\n",
    "$$\n",
    "After finishing the flips at the imaginary time, $\\tau$, we jump to the next time slice, $\\tau+1$. We need to know the green function $G(\\tau+1,\\tau+1)$ for updating. We **need not** compute it from definition with matrix multiplications. Alternatively, we can propagate $G(\\tau,\\tau)$ to $G(\\tau\\pm1,\\tau\\pm1)$ by,\n",
    "$$\n",
    "\\begin{equation}\n",
    "\\begin{aligned}\n",
    "G(\\tau+\\Delta \\tau, \\tau+\\Delta \\tau) &= {B}(\\tau+\\Delta \\tau, \\tau) {G}(\\tau, \\tau) {B}^{-1}(\\tau+\\Delta \\tau, \\tau) \\\\\n",
    "G(\\tau-\\Delta \\tau, \\tau-\\Delta \\tau) &= {B}^{-1}(\\tau, \\tau-\\Delta \\tau) {G}(\\tau, \\tau) {B}(\\tau, \\tau -\\Delta \\tau)\n",
    "\\end{aligned}\n",
    "\\end{equation}\n",
    "$$\n",
    "This propagation is faster but less accurate, so we need to compute $G$ from scratch after serveral steps. (See Numerical stabilization section)"
   ]
  },
  {
   "cell_type": "code",
   "execution_count": 11,
   "metadata": {},
   "outputs": [],
   "source": [
    "def Run(U):\n",
    "    \n",
    "    #parameters input by user\n",
    "    Lx=4\n",
    "    Ly=4\n",
    "    t=1.0\n",
    "    #U=0.5\n",
    "    \n",
    "    beta=4\n",
    "    dtau=0.1\n",
    "    miu=0\n",
    "    \n",
    "    N_warmup=50\n",
    "    N_sweep=200\n",
    "    N_bin=10\n",
    "    PeriodEqlt = 5\n",
    "    WrapEvery = 5  #Im time interval for stabilization\n",
    "    BatchSize = 2*WrapEvery\n",
    "    \n",
    "    #parameter computed by computer\n",
    "    N_pc = Lx*Ly\n",
    "    N_bond = N_pc * 2\n",
    "    N_time_slice =  int(beta/dtau)\n",
    "    MatDim = N_pc\n",
    "    alpha = np.arccosh(np.exp(0.5*dtau*U))\n",
    "    #make matrix\n",
    "    KMatrix = K(Lx,Ly,t)\n",
    "    InvExpdtK = scipy.linalg.expm(-dtau*KMatrix)\n",
    "    ExpdtK = scipy.linalg.expm(dtau*KMatrix)\n",
    "    InvExpdt_HalfK = scipy.linalg.expm(-0.5*dtau*KMatrix)\n",
    "    Expdt_HalfK = scipy.linalg.expm(0.5*dtau*KMatrix)\n",
    "    # Initialize Auxillary H-S field as N-by-L matrix\n",
    "    # Each Column is in a different time slice\n",
    "    S = gen_auxf(MatDim,N_time_slice)\n",
    "    ExpVup = ExpV(S,1,alpha)\n",
    "    ExpVdn = ExpV(S,-1,alpha)\n",
    "    #compute G(0,0) for getting the ratio of updating\n",
    "    Gup,null = MakeGMatrix_QR(ExpVup,InvExpdtK,0,BatchSize)\n",
    "    Gdn,null = MakeGMatrix_QR(ExpVdn,InvExpdtK,0,BatchSize)\n",
    "    \n",
    "    \n",
    "   \n",
    "    dbocc_bin = []\n",
    "    Ek_bin=[]\n",
    "    spipi_bin = []\n",
    "  \n",
    "    for ibin in range(N_bin):\n",
    "        print('bin:',ibin)\n",
    "        NSample = 0\n",
    "        Sign = 0\n",
    "        S_pipi = 0\n",
    "        G00 = np.zeros([N_pc,N_pc])\n",
    "        Density = np.zeros([N_pc])\n",
    "        DoubleOcc = np.zeros([N_pc])\n",
    "        zz = np.zeros([N_pc,N_pc])\n",
    "        xx = np.zeros([N_pc,N_pc])\n",
    "        \n",
    "        for isw in range(N_warmup+N_sweep):\n",
    "            if np.mod(isw+1,500)==0:\n",
    "                print('finished:',isw+1)\n",
    "\n",
    "            for l_ in range(N_time_slice):\n",
    "                # we take measurement every PeriodEqlt time slices\n",
    "                if isw > N_warmup-1 and np.mod(l_,PeriodEqlt)==0:\n",
    "                    #recompute GF before taking measurements\n",
    "                    Gup00,Sgnup = MakeGMatrix_QR(ExpVup,InvExpdtK,0,BatchSize)\n",
    "                    Gdn00,Sgndn = MakeGMatrix_QR(ExpVdn,InvExpdtK,0,BatchSize)\n",
    "                    Gup00 = Half_Wrap(Gup00,Expdt_HalfK,InvExpdt_HalfK)\n",
    "                    Gdn00 = Half_Wrap(Gdn00,Expdt_HalfK,InvExpdt_HalfK)\n",
    "                    Sgn = Sgnup*Sgndn\n",
    "                    if Sgn<0:\n",
    "                        print('sign<0!',Sgnup,Sgndn)\n",
    "                        #os.system('pause')\n",
    "                    #tracking one the sign and GF\n",
    "                    NSample +=1\n",
    "                    Sign += Sgn\n",
    "                    G00 += Sgn*0.5*(Gup00+Gdn00)\n",
    "                    #diagonal elements of GF\n",
    "                    Gup00Diag = np.diag(Gup00)\n",
    "                    Gdn00Diag = np.diag(Gdn00)\n",
    "                    DiagSum = Gup00Diag+Gdn00Diag\n",
    "                    DiagDiff = Gup00Diag-Gdn00Diag\n",
    "                    \n",
    "                    # sigle site measurements\n",
    "                    Density += Sgn*(2-DiagSum)\n",
    "                    DoubleOcc += Sgn*(1-Gup00Diag)*(1-Gdn00Diag)\n",
    "                    \n",
    "                    #two site measurements\n",
    "                    t1_zz = np.dot(DiagDiff.reshape(len(DiagDiff),1),DiagDiff.reshape(1,len(DiagDiff)))\n",
    "                    t3 = np.dot(Gup00.T,Gup00)+np.dot(Gdn00.T,Gdn00)\n",
    "                    t3_xx = np.dot(Gup00.T,Gdn00)+np.dot(Gdn00.T,Gup00)\n",
    "                    zz += Sgn*0.25*(t1_zz+ np.diag(DiagSum)-t3)\n",
    "                    xx += Sgn*0.25*(np.diag(DiagSum)-t3_xx)\n",
    "                    \n",
    "                    #get spipi\n",
    "                    S_pipi += Getspipi(Lx,Ly,Gup00,Gdn00)\n",
    "                    \n",
    "                    \n",
    "                    \n",
    "                    \n",
    "                if np.mod(l_,WrapEvery) == 0:\n",
    "                    Gup,null = MakeGMatrix_QR(ExpVup, InvExpdtK, l_, BatchSize)\n",
    "                    Gdn,null = MakeGMatrix_QR(ExpVdn, InvExpdtK, l_, BatchSize)\n",
    "\n",
    "                # Update: after taking measurement, go through every [i,l] pair\n",
    "                # and attempt to flip s[i,l].\n",
    "                for si in range(N_pc):\n",
    "                    Detup = 1+(1-Gup[si][si])*(np.exp(-2*alpha*S[si][l_])-1)\n",
    "                    Detdn = 1+(1-Gdn[si][si])*(np.exp(+2*alpha*S[si][l_])-1)\n",
    "                    DetProd = Detup*Detdn\n",
    "\n",
    "                    r_ = np.random.random()\n",
    "                    if r_ < abs(DetProd):\n",
    "                        Col = Gup[:,si].copy()\n",
    "                        Col = Col.reshape(N_pc,1)\n",
    "                        Col[si] = Col[si]-1\n",
    "                        Row = Gup[si,:].copy()\n",
    "                        Row = Row.reshape(1,N_pc)\n",
    "                        Mat = np.dot(Col,Row)\n",
    "                        Gup = Gup + (np.exp(-2*alpha*S[si][l_])-1)*Mat/Detup\n",
    "\n",
    "                        Col = Gdn[:,si].copy()\n",
    "                        Col = Col.reshape(N_pc,1)\n",
    "                        Col[si] = Col[si]-1\n",
    "                        Row = Gdn[si,:].copy()\n",
    "                        Row = Row.reshape(1,N_pc)\n",
    "                        Mat = np.dot(Col,Row)\n",
    "                        Gdn = Gdn + (np.exp(2*alpha*S[si][l_])-1)*Mat/Detdn\n",
    "\n",
    "                        # update S-field\n",
    "                        S[si][l_] = -S[si][l_]\n",
    "\n",
    "                        # update (si,l_) entry of ExpV\n",
    "                        ExpVup[si][l_] = np.exp(alpha*S[si][l_])\n",
    "                        ExpVdn[si][l_] = np.exp(-alpha*S[si][l_])\n",
    "\n",
    "                #propagate GF to next time slice\n",
    "                Diagup = ExpVup[:,l_]\n",
    "                Diagdn = ExpVdn[:,l_]\n",
    "\n",
    "                Blup = np.dot(InvExpdtK,np.diag(Diagup))\n",
    "                InvBlup = np.dot(np.diag(Diagdn),ExpdtK)\n",
    "                Gup = np.dot(np.dot(Blup,Gup),InvBlup)\n",
    "\n",
    "                Bldn = np.dot(InvExpdtK,np.diag(Diagdn))\n",
    "                InvBldn = np.dot(np.diag(Diagup),ExpdtK)\n",
    "                Gdn = np.dot(np.dot(Bldn,Gdn),InvBldn)\n",
    "\n",
    "        Sign = Sign/NSample\n",
    "        G00 = G00/NSample\n",
    "        S_pipi = S_pipi/NSample\n",
    "        Density = Density/NSample\n",
    "        DoubleOcc = DoubleOcc/NSample\n",
    "        zz = zz/NSample\n",
    "        xx = xx/NSample\n",
    "        \n",
    "        \n",
    "        \n",
    "        Ek = 2*((-KMatrix*G00).sum())/N_pc\n",
    "        dbocc = sum(DoubleOcc)/N_pc\n",
    "        \n",
    "        \n",
    "        dbocc_bin.append(dbocc)\n",
    "        Ek_bin.append(Ek)\n",
    "        spipi_bin.append(S_pipi)\n",
    "        \n",
    "    return Ek_bin,dbocc_bin,spipi_bin\n",
    "    "
   ]
  },
  {
   "cell_type": "code",
   "execution_count": 13,
   "metadata": {
    "scrolled": true
   },
   "outputs": [
    {
     "name": "stdout",
     "output_type": "stream",
     "text": [
      "U: 0\n",
      "bin: 0\n",
      "bin: 1\n",
      "bin: 2\n",
      "bin: 3\n",
      "bin: 4\n",
      "bin: 5\n",
      "bin: 6\n",
      "bin: 7\n",
      "bin: 8\n",
      "bin: 9\n",
      "U: 1\n",
      "bin: 0\n",
      "bin: 1\n",
      "bin: 2\n",
      "bin: 3\n",
      "bin: 4\n",
      "bin: 5\n",
      "bin: 6\n",
      "bin: 7\n",
      "bin: 8\n",
      "bin: 9\n",
      "U: 2\n",
      "bin: 0\n",
      "bin: 1\n",
      "bin: 2\n",
      "bin: 3\n",
      "bin: 4\n",
      "bin: 5\n",
      "bin: 6\n",
      "bin: 7\n",
      "bin: 8\n",
      "bin: 9\n",
      "U: 3\n",
      "bin: 0\n",
      "bin: 1\n",
      "bin: 2\n",
      "bin: 3\n",
      "bin: 4\n",
      "bin: 5\n",
      "bin: 6\n",
      "bin: 7\n",
      "bin: 8\n",
      "bin: 9\n",
      "U: 4\n",
      "bin: 0\n",
      "bin: 1\n",
      "bin: 2\n",
      "bin: 3\n",
      "bin: 4\n",
      "bin: 5\n",
      "bin: 6\n",
      "bin: 7\n",
      "bin: 8\n",
      "bin: 9\n",
      "U: 5\n",
      "bin: 0\n",
      "bin: 1\n",
      "bin: 2\n",
      "bin: 3\n",
      "bin: 4\n",
      "bin: 5\n",
      "bin: 6\n",
      "bin: 7\n",
      "bin: 8\n",
      "bin: 9\n"
     ]
    }
   ],
   "source": [
    "U_lst = [0,1,2,3,4,5]\n",
    "d_rst = []\n",
    "d_err = []\n",
    "ek_rst = []\n",
    "ek_err = []\n",
    "spipi_rst = []\n",
    "spipi_err = []\n",
    "for U in U_lst:\n",
    "    print('U:',U)\n",
    "    \n",
    "    Ek_bin,dbocc_bin,spipi_bin=Run(U)\n",
    "    \n",
    "    d_rst.append(np.mean(dbocc_bin))\n",
    "    d_err.append(np.std(dbocc_bin)/np.sqrt(len(dbocc_bin)))\n",
    "    ek_rst.append(np.mean(Ek_bin))\n",
    "    ek_err.append(np.std(Ek_bin)/np.sqrt(len(Ek_bin)))\n",
    "    spipi_rst.append(np.mean(spipi_bin))\n",
    "    spipi_err.append(np.std(spipi_bin)/np.sqrt(len(spipi_bin)))\n",
    "    "
   ]
  },
  {
   "cell_type": "markdown",
   "metadata": {},
   "source": [
    "### Some measurables\n",
    "Kinetic energy is given by\n",
    "\n",
    "$$\n",
    "\\begin{equation}\n",
    "    T = - t \\langle c_i^\\dagger c_j \\rangle\n",
    "\\end{equation}\n",
    "$$\n",
    "\n",
    "Double occupancy\n",
    "\n",
    "$$\n",
    "\\begin{equation}\n",
    "    D = \\langle n_{i\\uparrow} n_{j\\downarrow} \\rangle\n",
    "\\end{equation}\n",
    "$$\n",
    "\n",
    "Structure factor\n",
    "\n",
    "$$\n",
    "\\begin{equation}\n",
    "    S(Q) = \\frac{1}{L^2}\\sum_{ij} e^{-i Q \\cdot (r_i - r_j)} <s_i s_j>\n",
    "\\end{equation}\n",
    "$$"
   ]
  },
  {
   "cell_type": "code",
   "execution_count": 15,
   "metadata": {},
   "outputs": [
    {
     "data": {
      "text/plain": [
       "Text(0, 0.5, '$<n_{i\\\\uparrow}n_{i\\\\downarrow}>$')"
      ]
     },
     "execution_count": 15,
     "metadata": {},
     "output_type": "execute_result"
    },
    {
     "data": {
      "image/png": "[encoded data removed]",
      "text/plain": [
       "<Figure size 432x288 with 1 Axes>"
      ]
     },
     "metadata": {
      "needs_background": "light"
     },
     "output_type": "display_data"
    }
   ],
   "source": [
    "plt.errorbar(U_lst,d_rst,d_err,fmt='o--',ecolor='hotpink',elinewidth=2,capsize=3,capthick=2)\n",
    "plt.xlabel(r'$U/t$',{'size':15})\n",
    "plt.ylabel(r'$<n_{i\\uparrow}n_{i\\downarrow}>$',{'size':15})\n"
   ]
  },
  {
   "cell_type": "code",
   "execution_count": 16,
   "metadata": {},
   "outputs": [
    {
     "data": {
      "text/plain": [
       "Text(0, 0.5, '$E_k$')"
      ]
     },
     "execution_count": 16,
     "metadata": {},
     "output_type": "execute_result"
    },
    {
     "data": {
      "image/png": "[encoded data removed]",
      "text/plain": [
       "<Figure size 432x288 with 1 Axes>"
      ]
     },
     "metadata": {
      "needs_background": "light"
     },
     "output_type": "display_data"
    }
   ],
   "source": [
    "plt.errorbar(U_lst,ek_rst,ek_err,fmt='o--',ecolor='hotpink',elinewidth=2,capsize=3,capthick=2)\n",
    "plt.xlabel(r'$U/t$',{'size':15})\n",
    "plt.ylabel(r'$E_k$',{'size':15})"
   ]
  },
  {
   "cell_type": "code",
   "execution_count": 17,
   "metadata": {},
   "outputs": [
    {
     "data": {
      "text/plain": [
       "Text(0, 0.5, '$S(\\\\pi,\\\\pi)/L^2$')"
      ]
     },
     "execution_count": 17,
     "metadata": {},
     "output_type": "execute_result"
    },
    {
     "data": {
      "image/png": "[encoded data removed]",
      "text/plain": [
       "<Figure size 432x288 with 1 Axes>"
      ]
     },
     "metadata": {
      "needs_background": "light"
     },
     "output_type": "display_data"
    }
   ],
   "source": [
    "plt.errorbar(U_lst,np.array(spipi_rst)/16,np.array(spipi_err)/16,fmt='o--',ecolor='hotpink',elinewidth=2,capsize=3,capthick=2)\n",
    "plt.xlabel(r'$U/t$',{'size':15})\n",
    "plt.ylabel(r'$S(\\pi,\\pi)/L^2$',{'size':15})"
   ]
  },
  {
   "cell_type": "code",
   "execution_count": null,
   "metadata": {},
   "outputs": [],
   "source": []
  }
 ],
 "metadata": {
  "kernelspec": {
   "display_name": "Python 3",
   "language": "python",
   "name": "python3"
  },
  "language_info": {
   "codemirror_mode": {
    "name": "ipython",
    "version": 3
   },
   "file_extension": ".py",
   "mimetype": "text/x-python",
   "name": "python",
   "nbconvert_exporter": "python",
   "pygments_lexer": "ipython3",
   "version": "3.8.5"
  }
 },
 "nbformat": 4,
 "nbformat_minor": 4
}
