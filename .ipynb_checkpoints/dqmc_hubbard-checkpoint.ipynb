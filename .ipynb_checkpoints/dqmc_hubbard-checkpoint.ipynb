{
 "cells": [
  {
   "cell_type": "markdown",
   "metadata": {},
   "source": [
    "# DQMC\n"
   ]
  },
  {
   "cell_type": "markdown",
   "metadata": {},
   "source": [
    "## Hamiltonian & Partition function\n"
   ]
  },
  {
   "cell_type": "markdown",
   "metadata": {},
   "source": [
    "Use square-lattice Hubbard model as an example here. For detailed analytical derivation, please check https://quantummc.xyz/2020/10/11/dqmc-note/ .\n",
    "\n",
    "\n",
    "The half-filling Hamiltonian is: $$H=-t\\mathop{\\sum}\\limits_{<i,j>\\sigma}c_{i\\sigma}^\\dagger c_{j\\sigma}+h.c.+U\\mathop{\\sum}\\limits_i (n_{i\\uparrow}-\\frac{1}{2})(n_{i\\downarrow}-\\frac{1}{2}).$$\n",
    "\n",
    "After Trotter decomposition, the partition is $$Tr\\{e^{-\\beta H}\\}=Tr\\{(e^{-\\Delta\\tau H})^{L_\\tau}\\}$$\n",
    "\n",
    "For the kinetic energy, the sum for spin-up and spin-down are the same and for example it can be expressed as :\n",
    "$$H_0=c^\\dagger_\\uparrow T c_\\uparrow=-t\\mathop{\\sum}\\limits_{<i,j>}c_{i\\uparrow}^\\dagger c_{j\\uparrow}+h.c. $$ \n",
    "\n",
    "For the interaction,  it can be expressed as :\n",
    "$$H_U=U\\mathop{\\sum}\\limits_i (n_{i\\uparrow}-\\frac{1}{2})(n_{i\\downarrow}-\\frac{1}{2})=-\\frac{U}{2}(n_\\uparrow-n_\\downarrow)^2+\\frac{U}{4}$$For details, check https://journals.aps.org/prb/abstract/10.1103/PhysRevB.7.432 .\n",
    "After HS transformation: $$e^{-\\Delta\\tau H_U}=\\gamma\\sum_{s=\\pm 1}e^{\\alpha s(n_\\uparrow-n_\\downarrow)},$$ with $\\gamma=\\frac{1}{2}e^{-\\Delta\\tau U/4}$, and $\\cosh(\\alpha)=e^{\\Delta\\tau U/2}$.\n",
    "\n",
    "Therefore, the expanded partition function is:\n",
    "$$Z=\\sum_{s_{i, l}=\\pm 1}\\gamma^{NL_\\tau}Tr_F\\{ \\prod_{l=1}^{L_\\tau}[(\\prod_ie^{\\alpha s_{i,l}n_{i\\uparrow}})(e^{-\\Delta\\tau c_\\uparrow^\\dagger T c_\\uparrow})(\\prod_ie^{-\\alpha s_{i,l}n_{i\\downarrow}})(e^{-\\Delta\\tau c_\\downarrow^\\dagger T c_\\downarrow}) ]\\}=\\gamma^{NL_\\tau}\\sum_{s_{i,j}}\\prod_{\\sigma=\\uparrow\\downarrow}Det[I+B^\\sigma(L_\\tau\\Delta\\tau,(L_\\tau-1)\\Delta\\tau)\\dots B^\\sigma(\\Delta\\tau,0)]$$\n",
    "where $B^{\\sigma=\\uparrow,\\downarrow}(l_2\\Delta\\tau,l_1\\Delta\\tau)=\\prod_{l=l_1+1}^{l_2}e^{\\alpha Diag(\\vec S_l)}e^{-\\Delta\\tau T}$ and Diag($\\vec S_l$) is a diagonal matrix with the diagonal elements being $s_{i,l}$.\n",
    "\n"
   ]
  },
  {
   "cell_type": "markdown",
   "metadata": {},
   "source": [
    "## Code"
   ]
  },
  {
   "cell_type": "markdown",
   "metadata": {},
   "source": [
    "Here, I will show the code for simulating square-lattice Hubbard model and measure kinetic energy $E_k$, double occupancy $D$, and structure factor $S(\\pi,\\pi)$ with changing $U$."
   ]
  },
  {
   "cell_type": "code",
   "execution_count": 2,
   "metadata": {},
   "outputs": [],
   "source": [
    "import numpy as np\n",
    "import scipy.linalg\n",
    "import copy"
   ]
  },
  {
   "cell_type": "markdown",
   "metadata": {},
   "source": [
    "### System parameters"
   ]
  },
  {
   "cell_type": "code",
   "execution_count": 43,
   "metadata": {},
   "outputs": [],
   "source": [
    "Lx=4\n",
    "Ly=4\n",
    "L=Lx*Ly   # which is the number of lattice sites\n",
    "t=1       # hopping amplitude\n",
    "beta=4\n",
    "dt=0.1\n",
    "total_slices=int(beta/dt)\n",
    "def alpha(U):\n",
    "    return np.cosh(np.exp(dt*U/2)) \n",
    "\n",
    "N_wrap_interval=5; #deciding when to do stabilization\n",
    "I=np.identity(L)\n",
    "total_sweeps=2000;    #total MC steps\n",
    "N_warmup_sweep=1000;  # thermalization only, not measure\n",
    "\n",
    "U_list=[1,2,3,4,5]\n",
    "Ek_list=np.zeros((len(U_list),2))\n",
    "D_list=np.zeros((len(U_list),2))\n",
    "S_list=np.zeros((len(U_list),2))\n"
   ]
  },
  {
   "cell_type": "markdown",
   "metadata": {},
   "source": [
    "### T matrix"
   ]
  },
  {
   "cell_type": "code",
   "execution_count": 44,
   "metadata": {},
   "outputs": [],
   "source": [
    "matrix_T=np.zeros((L,L))   #define T matrix\n",
    "for i1 in range(Lx):\n",
    "    for i2 in range(Ly):\n",
    "        it=i1+Lx*i2\n",
    "        it1=it+1        #right neighbor\n",
    "        if i1+1>Lx-1:\n",
    "            it1=it1-Lx\n",
    "            \n",
    "        it2=it-1       #left\n",
    "        if i1-1<0:\n",
    "            it2=it2+Lx\n",
    "        \n",
    "        it3=it+Ly      #down\n",
    "        if it3>L-1:\n",
    "            it3=it3-L\n",
    "        \n",
    "        it4=it-Ly      #up\n",
    "        if it4<0:\n",
    "            it4=it4+L\n",
    "       \n",
    "        matrix_T[it,it1]=-t\n",
    "        matrix_T[it,it2]=-t\n",
    "        matrix_T[it,it3]=-t\n",
    "        matrix_T[it,it4]=-t\n"
   ]
  },
  {
   "cell_type": "code",
   "execution_count": 51,
   "metadata": {},
   "outputs": [],
   "source": [
    "matrix_eT=scipy.linalg.expm(-dt*matrix_T);"
   ]
  },
  {
   "cell_type": "markdown",
   "metadata": {},
   "source": [
    "### $e^{H_U}$ matrix"
   ]
  },
  {
   "cell_type": "code",
   "execution_count": 52,
   "metadata": {},
   "outputs": [],
   "source": [
    "def eV_up(lattice_temp,L_temp,alpha_temp):  #spin-up\n",
    "    mat_v=np.zeros((L_temp,L_temp))\n",
    "    for ivu in range(L_temp):\n",
    "        mat_v[ivu,ivu]=lattice_temp[ivu]\n",
    "    return scipy.linalg.expm(alpha_temp*mat_v)\n",
    "\n",
    "def eV_down(lattice_temp,L_temp,alpha_temp):  #spin-down\n",
    "    mat_v=np.zeros((L_temp,L_temp))\n",
    "    for ivd in range(L_temp):\n",
    "        mat_v[ivd,ivd]=lattice_temp[ivd]\n",
    "    return scipy.linalg.expm(-alpha_temp*mat_v)\n",
    "\n"
   ]
  },
  {
   "cell_type": "markdown",
   "metadata": {},
   "source": [
    "### UDV decomposition"
   ]
  },
  {
   "cell_type": "markdown",
   "metadata": {},
   "source": [
    "Define udv decomposition function here with QR decomposition."
   ]
  },
  {
   "cell_type": "code",
   "execution_count": 5,
   "metadata": {},
   "outputs": [],
   "source": [
    "def pivoted_qr(mat_tod,L_temp):\n",
    "    [qhere,rhere,phere]=scipy.linalg.qr(mat_tod,pivoting=True)\n",
    "    prhere=np.zeros_like(phere)\n",
    "    for iqr in range(L_temp):\n",
    "        key_here=iqr\n",
    "        val_here=phere[iqr]\n",
    "        prhere[val_here]=key_here\n",
    "    uhere=qhere\n",
    "    dhere=abs(np.real(np.diag(rhere)))\n",
    "    rhere=np.dot(np.diag(1./(dhere)),rhere)\n",
    "    rnew=np.zeros((L_temp,L_temp))\n",
    "    for irnew in range(L_temp):\n",
    "        rnew[:,irnew]=rhere[:,prhere[irnew]]\n",
    "    dhere=np.diag(dhere)\n",
    "    vhere=np.transpose(rnew)\n",
    "    return uhere,dhere,vhere\n",
    "# be careful in this definition: A=u*d*transpose(v)"
   ]
  },
  {
   "cell_type": "markdown",
   "metadata": {},
   "source": [
    "### Initial settings"
   ]
  },
  {
   "cell_type": "markdown",
   "metadata": {},
   "source": [
    "Set initial configurations, and B matrices\n"
   ]
  },
  {
   "cell_type": "code",
   "execution_count": 119,
   "metadata": {},
   "outputs": [],
   "source": [
    "def set_configuration(slice_temp,L_temp):                   \n",
    "    lattice_temp=np.zeros((slice_temp,L_temp))\n",
    "    for ilat in range(slice_temp):\n",
    "        for jlat in range(L_temp):\n",
    "            lattice_temp[ilat,jlat]=np.random.randint(2)*2-1\n",
    "    return lattice_temp\n",
    "\n",
    "def set_Blists(slice_temp,lattice_temp):\n",
    "    Bup=np.zeros(((slice_temp,L,L)))\n",
    "    Bdown=np.zeros(((slice_temp,L,L)))\n",
    "    for ibini in range(slice_temp):\n",
    "        Bup[ibini]=np.dot(eV_up(lattice_temp[ibini],L,alpha),matrix_eT)\n",
    "        Bdown[ibini]=np.dot(eV_down(lattice_temp[ibini],L,alpha),matrix_eT)\n",
    "    return Bup,Bdown\n",
    "            "
   ]
  },
  {
   "cell_type": "markdown",
   "metadata": {},
   "source": [
    "### Markov chain simulation"
   ]
  },
  {
   "cell_type": "code",
   "execution_count": null,
   "metadata": {},
   "outputs": [],
   "source": [
    "def Markov_simulation(U):\n",
    "    #initial lattice\n",
    "    lattice_list=set_configuration(total_slices,L)\n",
    "    B_up_list,B_down_list=set_Blists(total_slices,lattice_list)\n",
    "    #initial Green's function\n",
    "    buUL=np.eye(L);buSL=np.eye(L);buVL=np.eye(L);bdUL=np.eye(L);bdSL=np.eye(L);bdVL=np.eye(L) \n",
    "    buUR=np.eye(L);buSR=np.eye(L);buVR=np.eye(L);bdUR=np.eye(L);bdSR=np.eye(L);bdVR=np.eye(L)\n",
    "    # these above are the udv matrices, we use L to represent those from B(tau,0) and R means those from B(beta,tau)\n",
    "    # UDV are USV here, 'u' means up and 'd' means spin-down\n",
    "    for igini in range(total_slices):\n",
    "        if igini==0:\n",
    "            buUL,buSL,buVL=pivoted_qr(B_up_list[igini],L)\n",
    "            bdUL,bdSL,bdVL=pivoted_qr(B_down_list[igini],L)\n",
    "        else:\n",
    "            buUL,buSL,bauVL=pivoted_qr(np.dot(np.dot(B_up_list[igini],buUL),buSL),L)\n",
    "            buVL=np.dot(buVL,bauVL)\n",
    "            bdUL,bdSL,badVL=pivoted_qr(np.dot(np.dot(B_down_list[igini],bdUL),bdSL),L)\n",
    "            bdVL=np.dot(bdVL,badVL)\n",
    "    #below  's' means min and 'b' means max\n",
    "    buSLs=copy.deepcopy(buSL);buSLb=copy.deepcopy(buSL);buSRs=copy.deepcopy(buSR);buSRb=copy.deepcopy(buSR)\n",
    "    bdSLs=copy.deepcopy(bdSL);bdSLb=copy.deepcopy(bdSL);bdSRs=copy.deepcopy(bdSR);bdSRb=copy.deepcopy(bdSR)\n",
    "    for mhere in range (len(buSL)):\n",
    "        if buSL[mhere,mhere]>1:\n",
    "            buSLs(mhere,mhere)=1\n",
    "        else:\n",
    "            buSLb(mhere,mhere)=1\n",
    "        if bdSL[mhere,mhere]>1:\n",
    "            bdSLs[mhere,mhere1]=1\n",
    "        else:\n",
    "            bdSLb[mhere,mhere]=1\n",
    "    G_up=np.dot(np.dot(np.dot(np.dot(np.linalg.inv(np.transpose(buVR)),(np.diag(1./np.diag(buSRb)))),\\\n",
    "                              np.linalg.inv(np.dot(np.dot(np.diag(1./np.diag(buSLb)),np.linalg.inv(np.dot(np.transpose(buVR),buUL))),\\\n",
    "                                                   np.diag(1./np.diag(buSRb)))+np.dot(np.dot(np.dot(buSLs,np.transpose(buVL)),buUR),\\\n",
    "                                                                                      buSRs))),(np.diag(1./np.diag(buSLb)))),buUL)\n",
    "    G_down=np.dot(np.dot(np.dot(np.dot(np.linalg.inv(np.transpose(bdVR)),(np.diag(1./np.diag(bdSRb)))),\\\n",
    "                              np.linalg.inv(np.dot(np.dot(np.diag(1./np.diag(bdSLb)),np.linalg.inv(np.dot(np.transpose(bdVR),bdUL))),\\\n",
    "                                                   np.diag(1./np.diag(bdSRb)))+np.dot(np.dot(np.dot(bdSLs,np.transpose(bdVL)),bdUR),\\\n",
    "                                                                                      bdSRs))),(np.diag(1./np.diag(bdSLb)))),bdUL)\n",
    "    # start sweeping, here I just write down sweeping from slice 0 to beta, you can add from beta to 0 by yourself\n",
    "    for N_sweep in range(total_sweeps):\n",
    "        slice_tomeasure=np.random.randint(total_slices)\n",
    "        for time_slice in range (total_slices):\n",
    "            if np.mod(time_slice+1,N_wrap_interval)==0:   #whether to do stabilization\n",
    "                # just define the decomposed matrices, you can choose not to define here since these variables already exist\n",
    "                buUL=np.eye(L);buSL=np.eye(L);buVL=np.eye(L);bdUL=np.eye(L);bdSL=np.eye(L);bdVL=np.eye(L) \n",
    "                buUR=np.eye(L);buSR=np.eye(L);buVR=np.eye(L);bdUR=np.eye(L);bdSR=np.eye(L);bdVR=np.eye(L)\n",
    "                for irecalc in range (time_slice+1):\n",
    "                    if irecalc==0:\n",
    "                        buUL,buSL,buVL=pivoted_qr(B_up_list[irecalc],L)\n",
    "                        bdUL,bdSL,bdVL=pivoted_qr(B_down_list[irecalc],L)\n",
    "                    else:\n",
    "                        buUL,buSL,bauVL=pivoted_qr(np.dot(np.dot(B_up_list[irecalc],buUL),buSL),L)\n",
    "                        buVL=np.dot(buVL,bauVL)\n",
    "                        bdUL,bdSL,badVL=pivoted_qr(np.dot(np.dot(B_down_list[irecalc],bdUL),bdSL),L)\n",
    "                        bdVL=np.dot(bdVL,badVL)\n",
    "                for jrecalc in reversed(range(time_slice+1,total_slices)):\n",
    "                    if jrecalc==total_slices-1:\n",
    "                        buUR,buSR,buVR=pivoted_qr(B_up_list[jrecalc],L)\n",
    "                        bdUR,bdSR,bdVR=pivoted_qr(B_down_list[jrecalc],L)\n",
    "                    else:\n",
    "                        bauUR,buSR,buVR=pivoted_qr(np.dot(np.dot(buSR,np.transpose(buVR)),B_up_list[jrecalc]),L)\n",
    "                        buUR=np.dot(buUR,bauUR)\n",
    "                        badUR,bdSR,bdVR=pivoted_qr(np.dot(np.dot(bdSR,np.transpose(bdVR)),B_down_list[jrecalc]),L)\n",
    "                        bdUR=np.dot(bdUR,badUR)\n",
    "                buSLs=copy.deepcopy(buSL);buSLb=copy.deepcopy(buSL);buSRs=copy.deepcopy(buSR);buSRb=copy.deepcopy(buSR)\n",
    "                bdSLs=copy.deepcopy(bdSL);bdSLb=copy.deepcopy(bdSL);bdSRs=copy.deepcopy(bdSR);bdSRb=copy.deepcopy(bdSR)\n",
    "                for mhere in range (len(buSL)):\n",
    "                    if buSL[mhere,mhere]>1:\n",
    "                        buSLs(mhere,mhere)=1\n",
    "                    else:\n",
    "                        buSLb(mhere,mhere)=1\n",
    "                    if bdSL[mhere,mhere]>1:\n",
    "                        bdSLs[mhere,mhere1]=1\n",
    "                    else:\n",
    "                        bdSLb[mhere,mhere]=1\n",
    "                    if buSR[mhere,mhere]>1:\n",
    "                        buSRs(mhere,mhere)=1\n",
    "                    else:\n",
    "                        buSRb(mhere,mhere)=1\n",
    "                    if bdSR[mhere,mhere]>1:\n",
    "                        bdSRs[mhere,mhere1]=1\n",
    "                    else:\n",
    "                        bdSRb[mhere,mhere]=1\n",
    "                G_up=np.dot(np.dot(np.dot(np.dot(np.linalg.inv(np.transpose(buVR)),(np.diag(1./np.diag(buSRb)))),\\\n",
    "                                          np.linalg.inv(np.dot(np.dot(np.diag(1./np.diag(buSLb)),\\\n",
    "                                                                      np.linalg.inv(np.dot(np.transpose(buVR),buUL))),\\\n",
    "                                                               np.diag(1./np.diag(buSRb)))+np.dot(np.dot(np.dot(buSLs,np.transpose(buVL)),\\\n",
    "                                                                                                         buUR),buSRs))),(np.diag(1./np.diag(buSLb)))),buUL)\n",
    "                G_down=np.dot(np.dot(np.dot(np.dot(np.linalg.inv(np.transpose(bdVR)),(np.diag(1./np.diag(bdSRb)))),\\\n",
    "                                            np.linalg.inv(np.dot(np.dot(np.diag(1./np.diag(bdSLb)),\\\n",
    "                                                                        np.linalg.inv(np.dot(np.transpose(bdVR),bdUL))),\\\n",
    "                                                                 np.diag(1./np.diag(bdSRb)))+np.dot(np.dot(np.dot(bdSLs,np.transpose(bdVL)),bdUR),\\\n",
    "                                                                                                    bdSRs))),(np.diag(1./np.diag(bdSLb)))),bdUL)\n",
    "            else:\n",
    "                G_up=np.dot(np.dot(B_up_list[time_slice],G_up),np.linalg.inv(B_up_list[time_slice]))\n",
    "                G_down=np.dot(np.dot(B_down_list[time_slice],G_down),np.linalg.inv(B_down_list[time_slice]))\n",
    "            \n",
    "            #start updating\n",
    "            for N_site in range(L):\n",
    "                \n",
    "                    \n",
    "                    \n",
    "        \n",
    "    \n"
   ]
  },
  {
   "cell_type": "code",
   "execution_count": 17,
   "metadata": {},
   "outputs": [
    {
     "data": {
      "text/plain": [
       "array([[1.0000000e+00, 4.4408921e-16],\n",
       "       [0.0000000e+00, 1.0000000e+00]])"
      ]
     },
     "execution_count": 17,
     "metadata": {},
     "output_type": "execute_result"
    }
   ],
   "source": [
    "np.dot(np.linalg.inv(np.array([[1,2],[3,4]])),\\\n",
    "       np.array([[1,2],[3,4]]))"
   ]
  },
  {
   "cell_type": "code",
   "execution_count": 19,
   "metadata": {},
   "outputs": [
    {
     "name": "stdout",
     "output_type": "stream",
     "text": [
      "0\n",
      "1\n",
      "2\n",
      "3\n",
      "4\n",
      "5\n",
      "6\n",
      "7\n",
      "8\n",
      "9\n"
     ]
    }
   ],
   "source": [
    "for i in range(10):\n",
    "    print(i)"
   ]
  },
  {
   "cell_type": "code",
   "execution_count": 23,
   "metadata": {},
   "outputs": [
    {
     "name": "stdout",
     "output_type": "stream",
     "text": [
      "0\n",
      "1\n",
      "2\n"
     ]
    }
   ],
   "source": [
    "# total=10 slice=2\n",
    "for i in range(3):\n",
    "    print(i)"
   ]
  },
  {
   "cell_type": "code",
   "execution_count": 24,
   "metadata": {},
   "outputs": [
    {
     "name": "stdout",
     "output_type": "stream",
     "text": [
      "9\n",
      "8\n",
      "7\n",
      "6\n",
      "5\n",
      "4\n",
      "3\n"
     ]
    }
   ],
   "source": [
    "for i in reversed(range(3,10)):\n",
    "    print(i)"
   ]
  },
  {
   "cell_type": "code",
   "execution_count": null,
   "metadata": {},
   "outputs": [],
   "source": []
  }
 ],
 "metadata": {
  "kernelspec": {
   "display_name": "Python 3",
   "language": "python",
   "name": "python3"
  },
  "language_info": {
   "codemirror_mode": {
    "name": "ipython",
    "version": 3
   },
   "file_extension": ".py",
   "mimetype": "text/x-python",
   "name": "python",
   "nbconvert_exporter": "python",
   "pygments_lexer": "ipython3",
   "version": "3.8.5"
  }
 },
 "nbformat": 4,
 "nbformat_minor": 5
}
