{
 "cells": [
  {
   "cell_type": "markdown",
   "metadata": {},
   "source": [
    "# DQMC\n"
   ]
  },
  {
   "cell_type": "markdown",
   "metadata": {},
   "source": [
    "## Hamiltonian & Partition function\n"
   ]
  },
  {
   "cell_type": "markdown",
   "metadata": {},
   "source": [
    "Use 2d square-lattice Hubbard model as an example here. For detailed analytical derivation, please check https://quantummc.xyz/2020/10/11/dqmc-note/ .\n",
    "\n",
    "\n",
    "The half-filling Hamiltonian is: $$H=-t\\mathop{\\sum}\\limits_{<i,j>\\sigma}c_{i\\sigma}^\\dagger c_{j\\sigma}+h.c.+U\\mathop{\\sum}\\limits_i (n_{i\\uparrow}-\\frac{1}{2})(n_{i\\downarrow}-\\frac{1}{2}).$$\n",
    "\n",
    "After Trotter decomposition, the partition is $$Tr\\{e^{-\\beta H}\\}=Tr\\{(e^{-\\Delta\\tau H})^{L_\\tau}\\}$$\n",
    "\n",
    "For the kinetic energy, the sum for spin-up and spin-down are the same and for example it can be expressed as :\n",
    "$$H_0=c^\\dagger_\\uparrow T c_\\uparrow=-t\\mathop{\\sum}\\limits_{<i,j>}c_{i\\uparrow}^\\dagger c_{j\\uparrow}+h.c. $$\n",
    "\n",
    "For the interaction,  it can be expressed as :\n",
    "$$H_U=U\\mathop{\\sum}\\limits_i (n_{i\\uparrow}-\\frac{1}{2})(n_{i\\downarrow}-\\frac{1}{2})=-\\frac{U}{2}(n_\\uparrow-n_\\downarrow)^2+\\frac{U}{4}$$\n",
    "After HS transformation: $$e^{-\\Delta\\tau H_U}=\\gamma\\sum_{s=\\pm 1}e^{\\alpha s(n_\\uparrow-n_\\downarrow)},$$ with $\\gamma=\\frac{1}{2}e^{-\\Delta\\tau U/4}$, and $\\cosh(\\alpha)=e^{\\Delta\\tau U/2}$.\n",
    "\n",
    "Therefore, the expanded partition function is:\n",
    "$$Z=$$\n",
    "\n"
   ]
  },
  {
   "cell_type": "code",
   "execution_count": null,
   "metadata": {},
   "outputs": [],
   "source": []
  },
  {
   "cell_type": "code",
   "execution_count": null,
   "metadata": {},
   "outputs": [],
   "source": []
  }
 ],
 "metadata": {
  "kernelspec": {
   "display_name": "Python 3",
   "language": "python",
   "name": "python3"
  },
  "language_info": {
   "codemirror_mode": {
    "name": "ipython",
    "version": 3
   },
   "file_extension": ".py",
   "mimetype": "text/x-python",
   "name": "python",
   "nbconvert_exporter": "python",
   "pygments_lexer": "ipython3",
   "version": "3.8.5"
  }
 },
 "nbformat": 4,
 "nbformat_minor": 5
}
