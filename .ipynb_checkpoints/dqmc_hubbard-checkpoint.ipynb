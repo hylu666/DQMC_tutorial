{
 "cells": [
  {
   "cell_type": "markdown",
   "id": "electoral-smile",
   "metadata": {},
   "source": [
    "# DQMC\n"
   ]
  },
  {
   "cell_type": "markdown",
   "id": "raising-butterfly",
   "metadata": {},
   "source": [
    "## Hamiltonian & Partition function\n"
   ]
  },
  {
   "cell_type": "markdown",
   "id": "damaged-yorkshire",
   "metadata": {},
   "source": [
    "Use 2d square-lattice Hubbard model as an example here. For detailed analytical derivation, please check https://quantummc.xyz/2020/10/11/dqmc-note/ .\n",
    "\n",
    "\n",
    "The half-filling Hamiltonian is: $H=-t\\mathop{\\sum}\\limits_{<i,j>\\sigma}c_{i\\sigma}^\\dagger c_{j\\sigma}+h.c.+U\\mathop{\\sum}\\limits_i (n_{i\\uparrow}-\\frac{1}{2})(n_{i\\downarrow}-\\frac{1}{2})$.\n",
    "\n"
   ]
  },
  {
   "cell_type": "code",
   "execution_count": null,
   "id": "durable-newman",
   "metadata": {},
   "outputs": [],
   "source": []
  },
  {
   "cell_type": "code",
   "execution_count": null,
   "id": "rising-windows",
   "metadata": {},
   "outputs": [],
   "source": []
  }
 ],
 "metadata": {
  "kernelspec": {
   "display_name": "Python 3",
   "language": "python",
   "name": "python3"
  },
  "language_info": {
   "codemirror_mode": {
    "name": "ipython",
    "version": 3
   },
   "file_extension": ".py",
   "mimetype": "text/x-python",
   "name": "python",
   "nbconvert_exporter": "python",
   "pygments_lexer": "ipython3",
   "version": "3.8.7"
  }
 },
 "nbformat": 4,
 "nbformat_minor": 5
}
