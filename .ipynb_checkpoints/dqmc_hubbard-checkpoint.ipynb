{
 "cells": [
  {
   "cell_type": "markdown",
   "id": "thorough-repeat",
   "metadata": {},
   "source": [
    "# DQMC\n"
   ]
  },
  {
   "cell_type": "markdown",
   "id": "passive-danger",
   "metadata": {},
   "source": [
    "## Hamiltonian & Partition function\n"
   ]
  },
  {
   "cell_type": "markdown",
   "id": "outer-compact",
   "metadata": {},
   "source": [
    "Use square-lattice Hubbard model as an example here. For detailed analytical derivation, please check https://quantummc.xyz/2020/10/11/dqmc-note/ .\n",
    "\n",
    "\n",
    "The half-filling Hamiltonian is: $$H=-t\\mathop{\\sum}\\limits_{<i,j>\\sigma}c_{i\\sigma}^\\dagger c_{j\\sigma}+h.c.+U\\mathop{\\sum}\\limits_i (n_{i\\uparrow}-\\frac{1}{2})(n_{i\\downarrow}-\\frac{1}{2}).$$\n",
    "\n",
    "After Trotter decomposition, the partition is $$Tr\\{e^{-\\beta H}\\}=Tr\\{(e^{-\\Delta\\tau H})^{L_\\tau}\\}$$\n",
    "\n",
    "For the kinetic energy, the sum for spin-up and spin-down are the same and for example it can be expressed as :\n",
    "$$H_0=c^\\dagger_\\uparrow T c_\\uparrow=-t\\mathop{\\sum}\\limits_{<i,j>}c_{i\\uparrow}^\\dagger c_{j\\uparrow}+h.c. $$ \n",
    "\n",
    "For the interaction,  it can be expressed as :\n",
    "$$H_U=U\\mathop{\\sum}\\limits_i (n_{i\\uparrow}-\\frac{1}{2})(n_{i\\downarrow}-\\frac{1}{2})=-\\frac{U}{2}(n_\\uparrow-n_\\downarrow)^2+\\frac{U}{4}$$For details, check https://journals.aps.org/prb/abstract/10.1103/PhysRevB.7.432 .\n",
    "After HS transformation: $$e^{-\\Delta\\tau H_U}=\\gamma\\sum_{s=\\pm 1}e^{\\alpha s(n_\\uparrow-n_\\downarrow)},$$ with $\\gamma=\\frac{1}{2}e^{-\\Delta\\tau U/4}$, and $\\cosh(\\alpha)=e^{\\Delta\\tau U/2}$.\n",
    "\n",
    "Therefore, the expanded partition function is:\n",
    "$$Z=\\sum_{s_{i, l}=\\pm 1}\\gamma^{NL_\\tau}Tr_F\\{ \\prod_{l=1}^{L_\\tau}[(\\prod_ie^{\\alpha s_{i,l}n_{i\\uparrow}})(e^{-\\Delta\\tau c_\\uparrow^\\dagger T c_\\uparrow})(\\prod_ie^{-\\alpha s_{i,l}n_{i\\downarrow}})(e^{-\\Delta\\tau c_\\downarrow^\\dagger T c_\\downarrow}) ]\\}=\\gamma^{NL_\\tau}\\sum_{s_{i,j}}\\prod_{\\sigma=\\uparrow\\downarrow}Det[I+B^\\sigma(L_\\tau\\Delta\\tau,(L_\\tau-1)\\Delta\\tau)\\dots B^\\sigma(\\Delta\\tau,0)]$$\n",
    "where $B^{\\sigma=\\uparrow,\\downarrow}(l_2\\Delta\\tau,l_1\\Delta\\tau)=\\prod_{l=l_1+1}^{l_2}e^{\\alpha Diag(\\vec S_l)}e^{-\\Delta\\tau T}$ and Diag($\\vec S_l$) is a diagonal matrix with the diagonal elements being $s_{i,l}$.\n",
    "\n"
   ]
  },
  {
   "cell_type": "markdown",
   "id": "armed-newark",
   "metadata": {},
   "source": [
    "## Code"
   ]
  },
  {
   "cell_type": "markdown",
   "id": "removable-david",
   "metadata": {},
   "source": [
    "Here, I will show the code for simulating square-lattice Hubbard model and measure kinetic energy $E_k$, double occupancy $D$, and structure factor $S(\\pi,\\pi)$ with changing $U$."
   ]
  },
  {
   "cell_type": "code",
   "execution_count": 50,
   "id": "moral-length",
   "metadata": {},
   "outputs": [],
   "source": [
    "import numpy as np\n",
    "import scipy.linalg"
   ]
  },
  {
   "cell_type": "markdown",
   "id": "elect-carnival",
   "metadata": {},
   "source": [
    "### System parameters"
   ]
  },
  {
   "cell_type": "code",
   "execution_count": 43,
   "id": "optimum-nudist",
   "metadata": {},
   "outputs": [],
   "source": [
    "Lx=4\n",
    "Ly=4\n",
    "L=Lx*Ly   # which is the number of lattice sites\n",
    "t=1       # hopping amplitude\n",
    "beta=4\n",
    "dt=0.1\n",
    "total_slices=int(beta/dt)\n",
    "def alpha(U):\n",
    "    return np.cosh(np.exp(dt*U/2)) \n",
    "\n",
    "N_wrap_interval=5; #deciding when to do stabilization\n",
    "I=np.identity(L)\n",
    "total_sweeps=2000;    #total MC steps\n",
    "N_warmup_sweep=1000;  # thermalization only, not measure\n",
    "\n",
    "U_list=[1,2,3,4,5]\n",
    "Ek_list=np.zeros((len(U_list),2))\n",
    "D_list=np.zeros((len(U_list),2))\n",
    "S_list=np.zeros((len(U_list),2))\n"
   ]
  },
  {
   "cell_type": "markdown",
   "id": "economic-timing",
   "metadata": {},
   "source": [
    "### T matrix"
   ]
  },
  {
   "cell_type": "code",
   "execution_count": 44,
   "id": "premium-flight",
   "metadata": {},
   "outputs": [],
   "source": [
    "matrix_T=np.zeros((L,L))   #define T matrix\n",
    "for i1 in range(Lx):\n",
    "    for i2 in range(Ly):\n",
    "        it=i1+Lx*i2\n",
    "        it1=it+1        #right neighbor\n",
    "        if i1+1>Lx-1:\n",
    "            it1=it1-Lx\n",
    "            \n",
    "        it2=it-1       #left\n",
    "        if i1-1<0:\n",
    "            it2=it2+Lx\n",
    "        \n",
    "        it3=it+Ly      #down\n",
    "        if it3>L-1:\n",
    "            it3=it3-L\n",
    "        \n",
    "        it4=it-Ly      #up\n",
    "        if it4<0:\n",
    "            it4=it4+L\n",
    "       \n",
    "        matrix_T[it,it1]=-t\n",
    "        matrix_T[it,it2]=-t\n",
    "        matrix_T[it,it3]=-t\n",
    "        matrix_T[it,it4]=-t\n"
   ]
  },
  {
   "cell_type": "code",
   "execution_count": 51,
   "id": "comfortable-senate",
   "metadata": {},
   "outputs": [],
   "source": [
    "matrix_eT=scipy.linalg.expm(-dt*matrix_T);"
   ]
  },
  {
   "cell_type": "markdown",
   "id": "incorporate-saint",
   "metadata": {},
   "source": [
    "### $e^{H_U}$ matrix"
   ]
  },
  {
   "cell_type": "code",
   "execution_count": 52,
   "id": "introductory-lincoln",
   "metadata": {},
   "outputs": [],
   "source": [
    "def eV_up(lattice_temp,L_temp,alpha_temp):  #spin-up\n",
    "    mat_v=np.zeros((L_temp,L_temp))\n",
    "    for ivu in range(L_temp):\n",
    "        mat_v[ivu,ivu]=lattice_temp[ivu]\n",
    "    return scipy.linalg.expm(alpha_temp*mat_v)\n",
    "\n",
    "def eV_down(lattice_temp,L_temp,alpha_temp):  #spin-down\n",
    "    mat_v=np.zeros((L_temp,L_temp))\n",
    "    for ivd in range(L_temp):\n",
    "        mat_v[ivd,ivd]=lattice_temp[ivd]\n",
    "    return scipy.linalg.expm(-alpha_temp*mat_v)\n",
    "\n"
   ]
  },
  {
   "cell_type": "markdown",
   "id": "blocked-opinion",
   "metadata": {},
   "source": [
    "### UDV decomposition"
   ]
  },
  {
   "cell_type": "markdown",
   "id": "analyzed-creek",
   "metadata": {},
   "source": [
    "Define udv decomposition function here with QR decomposition."
   ]
  },
  {
   "cell_type": "code",
   "execution_count": 108,
   "id": "metallic-forty",
   "metadata": {},
   "outputs": [],
   "source": [
    "def pivoted_qr(mat_tod,L_temp):\n",
    "    [qhere,rhere,phere]=scipy.linalg.qr(mat_tod,pivoting=True)\n",
    "    prhere=np.zeros_like(phere)\n",
    "    for iqr in range(L_temp):\n",
    "        key_here=iqr\n",
    "        val_here=phere[iqr]\n",
    "        prhere[val_here]=key_here\n",
    "    uhere=qhere\n",
    "    dhere=abs(np.real(np.diag(rhere)))\n",
    "    rhere=np.dot(np.diag(1./(dhere)),rhere)\n",
    "    rnew=np.zeros((L_temp,L_temp))\n",
    "    for irnew in range(L_temp):\n",
    "        rnew[:,irnew]=rhere[:,prhere[irnew]]\n",
    "    dhere=np.diag(dhere)\n",
    "    vhere=np.transpose(rnew)\n",
    "    return uhere,dhere,vhere"
   ]
  },
  {
   "cell_type": "markdown",
   "id": "celtic-princess",
   "metadata": {},
   "source": [
    "### Initial settings"
   ]
  },
  {
   "cell_type": "markdown",
   "id": "joined-calculation",
   "metadata": {},
   "source": [
    "Set initial configurations, and B matrices\n"
   ]
  },
  {
   "cell_type": "code",
   "execution_count": 119,
   "id": "extensive-guinea",
   "metadata": {},
   "outputs": [],
   "source": [
    "def set_configuration(slice_temp,L_temp):                   \n",
    "    lattice_temp=np.zeros((slice_temp,L_temp))\n",
    "    for ilat in range(slice_temp):\n",
    "        for jlat in range(L_temp):\n",
    "            lattice_temp[ilat,jlat]=np.random.randint(2)*2-1\n",
    "    return lattice_temp\n",
    "\n",
    "def set_Blists(slice_temp,lattice_temp):\n",
    "    Bup=np.zeros(((slice_temp,L,L)))\n",
    "    Bdown=np.zeros(((slice_temp,L,L)))\n",
    "    for ibini in range(slice_temp):\n",
    "        Bup[ibini]=np.dot(eV_up(lattice_temp[ibini],L,alpha),matrix_eT)\n",
    "        Bdown[ibini]=np.dot(eV_down(lattice_temp[ibini],L,alpha),matrix_eT)\n",
    "    return Bup,Bdown\n",
    "            "
   ]
  },
  {
   "cell_type": "code",
   "execution_count": 122,
   "id": "mature-generation",
   "metadata": {},
   "outputs": [],
   "source": [
    "haha=np.zeros(((3,3,3)))"
   ]
  },
  {
   "cell_type": "code",
   "execution_count": 123,
   "id": "identified-celebration",
   "metadata": {},
   "outputs": [
    {
     "data": {
      "text/plain": [
       "array([[0., 0., 0.],\n",
       "       [0., 0., 0.],\n",
       "       [0., 0., 0.]])"
      ]
     },
     "execution_count": 123,
     "metadata": {},
     "output_type": "execute_result"
    }
   ],
   "source": [
    "haha[1]"
   ]
  },
  {
   "cell_type": "code",
   "execution_count": null,
   "id": "daily-adapter",
   "metadata": {},
   "outputs": [],
   "source": []
  }
 ],
 "metadata": {
  "kernelspec": {
   "display_name": "Python 3",
   "language": "python",
   "name": "python3"
  },
  "language_info": {
   "codemirror_mode": {
    "name": "ipython",
    "version": 3
   },
   "file_extension": ".py",
   "mimetype": "text/x-python",
   "name": "python",
   "nbconvert_exporter": "python",
   "pygments_lexer": "ipython3",
   "version": "3.8.7"
  }
 },
 "nbformat": 4,
 "nbformat_minor": 5
}
