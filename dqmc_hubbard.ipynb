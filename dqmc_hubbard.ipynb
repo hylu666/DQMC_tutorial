{
 "cells": [
  {
   "cell_type": "markdown",
   "metadata": {},
   "source": [
    "# DQMC\n"
   ]
  },
  {
   "cell_type": "markdown",
   "metadata": {},
   "source": [
    "## Hamiltonian & Partition function\n"
   ]
  },
  {
   "cell_type": "markdown",
   "metadata": {},
   "source": [
    "Use square-lattice Hubbard model as an example here. For detailed analytical derivation, please check https://quantummc.xyz/2020/10/11/dqmc-note/ .\n",
    "\n",
    "\n",
    "The half-filling Hamiltonian is: $$H=-t\\mathop{\\sum}\\limits_{<i,j>\\sigma}c_{i\\sigma}^\\dagger c_{j\\sigma}+h.c.+U\\mathop{\\sum}\\limits_i (n_{i\\uparrow}-\\frac{1}{2})(n_{i\\downarrow}-\\frac{1}{2}).$$\n",
    "\n",
    "After Trotter decomposition, the partition is $$Tr\\{e^{-\\beta H}\\}=Tr\\{(e^{-\\Delta\\tau H})^{L_\\tau}\\}$$\n",
    "\n",
    "For the kinetic energy, the sum for spin-up and spin-down are the same and for example it can be expressed as :\n",
    "$$H_0=c^\\dagger_\\uparrow T c_\\uparrow=-t\\mathop{\\sum}\\limits_{<i,j>}c_{i\\uparrow}^\\dagger c_{j\\uparrow}+h.c. $$ \n",
    "\n",
    "For the interaction,  it can be expressed as :\n",
    "$$H_U=U\\mathop{\\sum}\\limits_i (n_{i\\uparrow}-\\frac{1}{2})(n_{i\\downarrow}-\\frac{1}{2})=-\\frac{U}{2}(n_\\uparrow-n_\\downarrow)^2+\\frac{U}{4}$$For details, check https://journals.aps.org/prb/abstract/10.1103/PhysRevB.7.432 .\n",
    "After HS transformation: $$e^{-\\Delta\\tau H_U}=\\gamma\\sum_{s=\\pm 1}e^{\\alpha s(n_\\uparrow-n_\\downarrow)},$$ with $\\gamma=\\frac{1}{2}e^{-\\Delta\\tau U/4}$, and $\\cosh(\\alpha)=e^{\\Delta\\tau U/2}$.\n",
    "\n",
    "Therefore, the expanded partition function is:\n",
    "$$Z=\\sum_{s_{i, l}=\\pm 1}\\gamma^{NL_\\tau}Tr_F\\{ \\prod_{l=1}^{L_\\tau}[(\\prod_ie^{\\alpha s_{i,l}n_{i\\uparrow}})(e^{-\\Delta\\tau c_\\uparrow^\\dagger T c_\\uparrow})(\\prod_ie^{-\\alpha s_{i,l}n_{i\\downarrow}})(e^{-\\Delta\\tau c_\\downarrow^\\dagger T c_\\downarrow}) ]\\}=\\gamma^{NL_\\tau}\\sum_{s_{i,j}}\\prod_{\\sigma=\\uparrow\\downarrow}Det[I+B^\\sigma(L_\\tau\\Delta\\tau,(L_\\tau-1)\\Delta\\tau)\\dots B^\\sigma(\\Delta\\tau,0)]$$\n",
    "where $B^{\\sigma=\\uparrow,\\downarrow}(l_2\\Delta\\tau,l_1\\Delta\\tau)=\\prod_{l=l_1+1}^{l_2}e^{\\alpha Diag(\\vec S_l)}e^{-\\Delta\\tau T}$ and Diag($\\vec S_l$) is a diagonal matrix with the diagonal elements being $s_{i,l}$.\n",
    "\n"
   ]
  },
  {
   "cell_type": "markdown",
   "metadata": {},
   "source": [
    "## Code"
   ]
  },
  {
   "cell_type": "code",
   "execution_count": 1,
   "metadata": {},
   "outputs": [],
   "source": [
    "import numpy as np\n",
    "import scipy.linalg\n",
    "import copy\n",
    "import random\n",
    "import math\n",
    "import matplotlib.pyplot as plt"
   ]
  },
  {
   "cell_type": "markdown",
   "metadata": {},
   "source": [
    "### System parameters"
   ]
  },
  {
   "cell_type": "code",
   "execution_count": 2,
   "metadata": {},
   "outputs": [],
   "source": [
    "Lx=4\n",
    "Ly=4\n",
    "L=Lx*Ly   # which is the number of lattice sites\n",
    "t=1       # hopping amplitude\n",
    "beta=4\n",
    "dt=0.1\n",
    "total_slices=int(beta/dt)\n",
    "\n",
    "\n",
    "N_wrap_interval=5; #deciding when to do stabilization\n",
    "I=np.identity(L)\n",
    "total_sweeps=1000;    #total MC steps\n",
    "N_warmup_sweep=500;  # thermalization only, not measure; \n",
    "# in fact we do not need so many steps for thermalization in this system\n",
    "\n",
    "U_list=[0.5,1,1.5,2,2.5,3,3.5,4,4.5]\n",
    "Ek_list=np.zeros((len(U_list),2))\n",
    "D_list=np.zeros((len(U_list),2))\n",
    "S_list=np.zeros((len(U_list),2))\n"
   ]
  },
  {
   "cell_type": "markdown",
   "metadata": {},
   "source": [
    "Here, I will show the code for simulating square-lattice Hubbard model and measure kinetic energy $E_k$, double occupancy $D$, and structure factor $S(\\pi,\\pi)$ with changing $U$."
   ]
  },
  {
   "cell_type": "code",
   "execution_count": 3,
   "metadata": {},
   "outputs": [],
   "source": [
    "sub_A=np.zeros(int(L/2))\n",
    "sub_B=np.zeros(int(L/2))\n",
    "sub_indexa=0\n",
    "sub_indexb=0\n",
    "for subix in range(Lx):\n",
    "    for subiy in range(Ly):\n",
    "        if np.mod(subix+subiy+1,2)==0:\n",
    "            sub_A[sub_indexa]=subix+subiy*Ly\n",
    "            sub_indexa=sub_indexa+1\n",
    "        else:\n",
    "            sub_B[sub_indexb]=subix+subiy*Ly\n",
    "            sub_indexb=sub_indexb+1"
   ]
  },
  {
   "cell_type": "code",
   "execution_count": 4,
   "metadata": {},
   "outputs": [
    {
     "data": {
      "text/plain": [
       "array([ 4., 12.,  1.,  9.,  6., 14.,  3., 11.])"
      ]
     },
     "execution_count": 4,
     "metadata": {},
     "output_type": "execute_result"
    }
   ],
   "source": [
    "sub_A"
   ]
  },
  {
   "cell_type": "code",
   "execution_count": 5,
   "metadata": {},
   "outputs": [
    {
     "data": {
      "text/plain": [
       "array([ 0.,  8.,  5., 13.,  2., 10.,  7., 15.])"
      ]
     },
     "execution_count": 5,
     "metadata": {},
     "output_type": "execute_result"
    }
   ],
   "source": [
    "sub_B"
   ]
  },
  {
   "cell_type": "markdown",
   "metadata": {},
   "source": [
    "### T matrix"
   ]
  },
  {
   "cell_type": "code",
   "execution_count": 6,
   "metadata": {},
   "outputs": [],
   "source": [
    "matrix_T=np.zeros((L,L))   #define T matrix\n",
    "for i1 in range(Lx):\n",
    "    for i2 in range(Ly):\n",
    "        it=i1+Lx*i2\n",
    "        it1=it+1        #right neighbor\n",
    "        if i1+1>Lx-1:\n",
    "            it1=it1-Lx\n",
    "            \n",
    "        it2=it-1       #left\n",
    "        if i1-1<0:\n",
    "            it2=it2+Lx\n",
    "        \n",
    "        it3=it+Ly      #down\n",
    "        if it3>L-1:\n",
    "            it3=it3-L\n",
    "        \n",
    "        it4=it-Ly      #up\n",
    "        if it4<0:\n",
    "            it4=it4+L\n",
    "       \n",
    "        matrix_T[it,it1]=-t\n",
    "        matrix_T[it,it2]=-t\n",
    "        matrix_T[it,it3]=-t\n",
    "        matrix_T[it,it4]=-t\n"
   ]
  },
  {
   "cell_type": "code",
   "execution_count": 7,
   "metadata": {},
   "outputs": [],
   "source": [
    "matrix_eT=scipy.linalg.expm(-dt*matrix_T);"
   ]
  },
  {
   "cell_type": "markdown",
   "metadata": {},
   "source": [
    "### $e^{H_U}$ matrix"
   ]
  },
  {
   "cell_type": "code",
   "execution_count": 8,
   "metadata": {},
   "outputs": [],
   "source": [
    "def eV_up(lattice_temp,L_temp,alpha_temp):  #spin-up\n",
    "    mat_v=np.zeros((L_temp,L_temp))\n",
    "    for ivu in range(L_temp):\n",
    "        mat_v[ivu,ivu]=lattice_temp[ivu]\n",
    "    return scipy.linalg.expm(alpha_temp*mat_v)\n",
    "\n",
    "def eV_down(lattice_temp,L_temp,alpha_temp):  #spin-down\n",
    "    mat_v=np.zeros((L_temp,L_temp))\n",
    "    for ivd in range(L_temp):\n",
    "        mat_v[ivd,ivd]=lattice_temp[ivd]\n",
    "    return scipy.linalg.expm(-alpha_temp*mat_v)\n",
    "\n"
   ]
  },
  {
   "cell_type": "markdown",
   "metadata": {},
   "source": [
    "### UDV decomposition"
   ]
  },
  {
   "cell_type": "markdown",
   "metadata": {},
   "source": [
    "Define udv decomposition function here with QR decomposition."
   ]
  },
  {
   "cell_type": "code",
   "execution_count": 9,
   "metadata": {},
   "outputs": [],
   "source": [
    "def pivoted_qr(mat_tod,L_temp):\n",
    "    [qhere,rhere,phere]=scipy.linalg.qr(mat_tod,pivoting=True)\n",
    "    #print(qhere,rhere,phere)\n",
    "    prhere=np.zeros_like(phere)\n",
    "    for iqr in range(L_temp):\n",
    "        key_here=iqr\n",
    "        val_here=phere[iqr]\n",
    "        prhere[val_here]=key_here\n",
    "    uhere=qhere\n",
    "    dhere=abs(np.real(np.diag(rhere)))\n",
    "    rhere=np.dot(np.diag(1./(dhere)),rhere)\n",
    "    rnew=np.zeros((L_temp,L_temp))\n",
    "    for irnew in range(L_temp):\n",
    "        rnew[:,irnew]=rhere[:,prhere[irnew]]\n",
    "    dhere=np.diag(dhere)\n",
    "    vhere=np.transpose(rnew)\n",
    "    return uhere,dhere,vhere\n",
    "# be careful in this definition: A=u*d*transpose(v)"
   ]
  },
  {
   "cell_type": "markdown",
   "metadata": {},
   "source": [
    "### Initial settings"
   ]
  },
  {
   "cell_type": "markdown",
   "metadata": {},
   "source": [
    "Set initial configurations, and B matrices\n"
   ]
  },
  {
   "cell_type": "code",
   "execution_count": 10,
   "metadata": {},
   "outputs": [],
   "source": [
    "def set_configuration(slice_temp,L_temp):                   \n",
    "    lattice_temp=np.zeros((slice_temp,L_temp))\n",
    "    for ilat in range(slice_temp):\n",
    "        for jlat in range(L_temp):\n",
    "            lattice_temp[ilat,jlat]=np.random.randint(2)*2-1\n",
    "    return lattice_temp\n",
    "\n",
    "def set_Blists(slice_temp,lattice_temp,alpha):\n",
    "    Bup=np.zeros(((slice_temp,L,L)))\n",
    "    Bdown=np.zeros(((slice_temp,L,L)))\n",
    "    for ibini in range(slice_temp):\n",
    "        Bup[ibini]=np.dot(eV_up(lattice_temp[ibini],L,alpha),matrix_eT)\n",
    "        Bdown[ibini]=np.dot(eV_down(lattice_temp[ibini],L,alpha),matrix_eT)\n",
    "    return Bup,Bdown\n",
    "            "
   ]
  },
  {
   "cell_type": "markdown",
   "metadata": {},
   "source": [
    "### Markov chain simulation"
   ]
  },
  {
   "cell_type": "code",
   "execution_count": null,
   "metadata": {},
   "outputs": [],
   "source": []
  },
  {
   "cell_type": "code",
   "execution_count": 11,
   "metadata": {},
   "outputs": [],
   "source": [
    "def Markov_simulation(U):\n",
    "    alpha=math.acosh(np.exp(dt*U/2)) \n",
    "    Ek=np.zeros(total_sweeps-N_warmup_sweep)\n",
    "    double_occupancy=np.zeros(total_sweeps-N_warmup_sweep)\n",
    "    structure_factor=np.zeros(total_sweeps-N_warmup_sweep)\n",
    "    N_measurement=0\n",
    "    #initial lattice\n",
    "    lattice_list=set_configuration(total_slices,L)\n",
    "    B_up_list,B_down_list=set_Blists(total_slices,lattice_list,alpha)\n",
    "    #initial Green's function\n",
    "    buUL=np.eye(L);buSL=np.eye(L);buVL=np.eye(L);bdUL=np.eye(L);bdSL=np.eye(L);bdVL=np.eye(L) \n",
    "    buUR=np.eye(L);buSR=np.eye(L);buVR=np.eye(L);bdUR=np.eye(L);bdSR=np.eye(L);bdVR=np.eye(L)\n",
    "    # these above are the udv matrices, we use L to represent those from B(tau,0) and R means those from B(beta,tau)\n",
    "    # UDV are USV here, 'u' means up and 'd' means spin-down\n",
    "    for igini in range(total_slices):\n",
    "        if igini==0:\n",
    "            buUL,buSL,buVL=pivoted_qr(B_up_list[igini],L)\n",
    "            bdUL,bdSL,bdVL=pivoted_qr(B_down_list[igini],L)\n",
    "        else:\n",
    "            buUL,buSL,bauVL=pivoted_qr(np.dot(np.dot(B_up_list[igini],buUL),buSL),L)\n",
    "            buVL=np.dot(buVL,bauVL)\n",
    "            bdUL,bdSL,badVL=pivoted_qr(np.dot(np.dot(B_down_list[igini],bdUL),bdSL),L)\n",
    "            bdVL=np.dot(bdVL,badVL)\n",
    "    #below  's' means min and 'b' means max\n",
    "    buSLs=copy.deepcopy(buSL);buSLb=copy.deepcopy(buSL);buSRs=copy.deepcopy(buSR);buSRb=copy.deepcopy(buSR)\n",
    "    bdSLs=copy.deepcopy(bdSL);bdSLb=copy.deepcopy(bdSL);bdSRs=copy.deepcopy(bdSR);bdSRb=copy.deepcopy(bdSR)\n",
    "    for mhere in range (len(buSL)):\n",
    "        if buSL[mhere,mhere]>1:\n",
    "            buSLs[mhere,mhere]=1\n",
    "        else:\n",
    "            buSLb[mhere,mhere]=1\n",
    "        if bdSL[mhere,mhere]>1:\n",
    "            bdSLs[mhere,mhere]=1\n",
    "        else:\n",
    "            bdSLb[mhere,mhere]=1\n",
    "    G_up=np.dot(np.dot(np.dot(np.dot(np.linalg.inv(np.transpose(buVR)),(np.diag(1./np.diag(buSRb)))),\\\n",
    "                              np.linalg.inv(np.dot(np.dot(np.diag(1./np.diag(buSLb)),np.linalg.inv(np.dot(np.transpose(buVR),buUL))),\\\n",
    "                                                   np.diag(1./np.diag(buSRb)))+np.dot(np.dot(np.dot(buSLs,np.transpose(buVL)),buUR),\\\n",
    "                                                                                      buSRs))),(np.diag(1./np.diag(buSLb)))),np.linalg.inv(buUL))\n",
    "    G_down=np.dot(np.dot(np.dot(np.dot(np.linalg.inv(np.transpose(bdVR)),(np.diag(1./np.diag(bdSRb)))),\\\n",
    "                              np.linalg.inv(np.dot(np.dot(np.diag(1./np.diag(bdSLb)),np.linalg.inv(np.dot(np.transpose(bdVR),bdUL))),\\\n",
    "                                                   np.diag(1./np.diag(bdSRb)))+np.dot(np.dot(np.dot(bdSLs,np.transpose(bdVL)),bdUR),\\\n",
    "                                                                                      bdSRs))),(np.diag(1./np.diag(bdSLb)))),np.linalg.inv(bdUL))\n",
    "    \n",
    "    # start sweeping, here I just write down sweeping from slice 0 to beta, you can add from beta to 0 by yourself\n",
    "    for N_sweep in range(total_sweeps):\n",
    "        if np.mod (N_sweep,100)==0:\n",
    "            print('U=',U,'start sweep', N_sweep)\n",
    "        slice_tomeasure=np.random.randint(total_slices)\n",
    "        for time_slice in range (total_slices):\n",
    "            if np.mod(time_slice+1,N_wrap_interval)==0:   #whether to do stabilization\n",
    "                \n",
    "                # just define the decomposed matrices, you can choose not to define here since these variables already exist\n",
    "                buUL=np.eye(L);buSL=np.eye(L);buVL=np.eye(L);bdUL=np.eye(L);bdSL=np.eye(L);bdVL=np.eye(L) \n",
    "                buUR=np.eye(L);buSR=np.eye(L);buVR=np.eye(L);bdUR=np.eye(L);bdSR=np.eye(L);bdVR=np.eye(L)\n",
    "                for irecalc in range (time_slice+1):\n",
    "                    if irecalc==0:\n",
    "                        buUL,buSL,buVL=pivoted_qr(B_up_list[irecalc],L)\n",
    "                        bdUL,bdSL,bdVL=pivoted_qr(B_down_list[irecalc],L)\n",
    "                    else:\n",
    "                        buUL,buSL,bauVL=pivoted_qr(np.dot(np.dot(B_up_list[irecalc],buUL),buSL),L)\n",
    "                        buVL=np.dot(buVL,bauVL)\n",
    "                        bdUL,bdSL,badVL=pivoted_qr(np.dot(np.dot(B_down_list[irecalc],bdUL),bdSL),L)\n",
    "                        bdVL=np.dot(bdVL,badVL)\n",
    "                for jrecalc in reversed(range(time_slice+1,total_slices)):\n",
    "                    if jrecalc==total_slices-1:\n",
    "                        buUR,buSR,buVR=pivoted_qr(B_up_list[jrecalc],L)\n",
    "                        bdUR,bdSR,bdVR=pivoted_qr(B_down_list[jrecalc],L)\n",
    "                    else:\n",
    "                        bauUR,buSR,buVR=pivoted_qr(np.dot(np.dot(buSR,np.transpose(buVR)),B_up_list[jrecalc]),L)\n",
    "                        buUR=np.dot(buUR,bauUR)\n",
    "                        badUR,bdSR,bdVR=pivoted_qr(np.dot(np.dot(bdSR,np.transpose(bdVR)),B_down_list[jrecalc]),L)\n",
    "                        bdUR=np.dot(bdUR,badUR)\n",
    "                buSLs=copy.deepcopy(buSL);buSLb=copy.deepcopy(buSL);buSRs=copy.deepcopy(buSR);buSRb=copy.deepcopy(buSR)\n",
    "                bdSLs=copy.deepcopy(bdSL);bdSLb=copy.deepcopy(bdSL);bdSRs=copy.deepcopy(bdSR);bdSRb=copy.deepcopy(bdSR)\n",
    "                for mhere in range (len(buSL)):\n",
    "                    if buSL[mhere,mhere]>1:\n",
    "                        buSLs[mhere,mhere]=1\n",
    "                    else:\n",
    "                        buSLb[mhere,mhere]=1\n",
    "                    if bdSL[mhere,mhere]>1:\n",
    "                        bdSLs[mhere,mhere]=1\n",
    "                    else:\n",
    "                        bdSLb[mhere,mhere]=1\n",
    "                    if buSR[mhere,mhere]>1:\n",
    "                        buSRs[mhere,mhere]=1\n",
    "                    else:\n",
    "                        buSRb[mhere,mhere]=1\n",
    "                    if bdSR[mhere,mhere]>1:\n",
    "                        bdSRs[mhere,mhere]=1\n",
    "                    else:\n",
    "                        bdSRb[mhere,mhere]=1\n",
    "                G_up=np.dot(np.dot(np.dot(np.dot(np.linalg.inv(np.transpose(buVR)),(np.diag(1./np.diag(buSRb)))),\\\n",
    "                                          np.linalg.inv(np.dot(np.dot(np.diag(1./np.diag(buSLb)),\\\n",
    "                                                                      np.linalg.inv(np.dot(np.transpose(buVR),buUL))),\\\n",
    "                                                               np.diag(1./np.diag(buSRb)))+np.dot(np.dot(np.dot(buSLs,np.transpose(buVL)),\\\n",
    "                                                                                                         buUR),buSRs))),(np.diag(1./np.diag(buSLb)))),np.linalg.inv(buUL))\n",
    "                #print(G_up)\n",
    "                G_down=np.dot(np.dot(np.dot(np.dot(np.linalg.inv(np.transpose(bdVR)),(np.diag(1./np.diag(bdSRb)))),\\\n",
    "                                            np.linalg.inv(np.dot(np.dot(np.diag(1./np.diag(bdSLb)),\\\n",
    "                                                                        np.linalg.inv(np.dot(np.transpose(bdVR),bdUL))),\\\n",
    "                                                                 np.diag(1./np.diag(bdSRb)))+np.dot(np.dot(np.dot(bdSLs,np.transpose(bdVL)),bdUR),\\\n",
    "                                                                                                    bdSRs))),(np.diag(1./np.diag(bdSLb)))),np.linalg.inv(bdUL))\n",
    "            else:\n",
    "                G_up=np.dot(np.dot(B_up_list[time_slice],G_up),np.linalg.inv(B_up_list[time_slice]))\n",
    "                #print(G_up,'trans')\n",
    "                \n",
    "                G_down=np.dot(np.dot(B_down_list[time_slice],G_down),np.linalg.inv(B_down_list[time_slice]))\n",
    "            \n",
    "            #start updating\n",
    "            for N_site in range(L):\n",
    "                array_one=np.zeros(L)                        # one row of identity matrix to be defined\n",
    "                si=lattice_list[time_slice,N_site]          # spin\n",
    "                sip=-lattice_list[time_slice,N_site]        #flip\n",
    "                delta_up=np.exp(alpha*sip)*np.exp(-alpha*si)-1\n",
    "                delta_down=np.exp(-alpha*sip)*np.exp(alpha*si)-1\n",
    "                R_up=(1+delta_up*(1-G_up[N_site,N_site]))\n",
    "                R_down=(1+delta_down*(1-G_down[N_site,N_site]))\n",
    "                ratio_here=R_up*R_down\n",
    "                if random.random()<ratio_here:\n",
    "                    array_one[N_site]=1\n",
    "                    G_up=G_up-np.dot((G_up[:,N_site]*delta_up).reshape(L,1),(array_one-G_up[N_site,:]).reshape(1,L))/R_up\n",
    "                    #print(G_up,'update')\n",
    "                    G_down=G_down-np.dot((G_down[:,N_site]*delta_down).reshape(L,1),(array_one-G_down[N_site,:]).reshape(1,L))/R_down\n",
    "                    lattice_list[time_slice,N_site]=sip\n",
    "            B_up_list[time_slice]=np.dot(eV_up(lattice_list[time_slice],L,alpha),matrix_eT)\n",
    "            B_down_list[time_slice]=np.dot(eV_down(lattice_list[time_slice],L,alpha),matrix_eT)\n",
    "            \n",
    "            #start measurement\n",
    "            if time_slice==slice_tomeasure and N_sweep+1>=N_warmup_sweep:\n",
    "                ekhere=0; euhere=0; sfhere=0\n",
    "                Meup=I-G_up; Medn=I-G_down\n",
    "                for ik in range(L):\n",
    "                    for ikj in range(L):\n",
    "                        if ik==ikj:\n",
    "                            euhere=euhere+Meup[ik,ik]*Medn[ik,ik]\n",
    "\n",
    "                        ekhere=ekhere+Meup[ik,ikj]*matrix_T[ikj,ik]\n",
    "                        ekhere=ekhere+Medn[ik,ikj]*matrix_T[ikj,ik]\n",
    "                for isf1 in range(L):\n",
    "                    for isf2 in range(L):\n",
    "                        if isf1==isf2:\n",
    "                            kro_here=1\n",
    "                        else:\n",
    "                            kro_here=0\n",
    "                        if (isf1 in sub_A)==(isf2 in sub_A) or (isf1 in sub_B)==(isf2 in sub_B):\n",
    "                            sfhere=sfhere+(1-G_up[isf1,isf1])*(1-G_up[isf2,isf2])+(kro_here-G_up[isf2,isf1])*G_up[isf1,isf2]+(1-G_down[isf1,isf1])*(1-G_down[isf2,isf2])+(kro_here-G_down[isf2,isf1])*G_down[isf1,isf2]-(1-G_up[isf1,isf1])*(1-G_down[isf2,isf2])-(1-G_down[isf1,isf1])*(1-G_up[isf2,isf2])\n",
    "                        else:\n",
    "                            sfhere=sfhere-((1-G_up[isf1,isf1])*(1-G_up[isf2,isf2])+(kro_here-G_up[isf2,isf1])*G_up[isf1,isf2]+(1-G_down[isf1,isf1])*(1-G_down[isf2,isf2])+(kro_here-G_down[isf2,isf1])*G_down[isf1,isf2]-(1-G_up[isf1,isf1])*(1-G_down[isf2,isf2])-(1-G_down[isf1,isf1])*(1-G_up[isf2,isf2]))\n",
    "                structure_factor[N_sweep-N_warmup_sweep]=sfhere/L          \n",
    "                Ek[N_sweep-N_warmup_sweep]=ekhere/L\n",
    "                double_occupancy[N_sweep-N_warmup_sweep]=euhere/L\n",
    "                N_measurement=N_measurement+1\n",
    "    #print(G_up)\n",
    "    return np.array([np.mean(Ek),np.std(Ek)/np.sqrt(N_measurement)]),np.array([np.mean(double_occupancy),np.std(double_occupancy)/np.sqrt(N_measurement)]),np.array([np.mean(structure_factor),np.std(structure_factor)/np.sqrt(N_measurement)])\n",
    "                            \n",
    "                            \n",
    "   \n",
    "                \n",
    "                \n",
    "                    \n",
    "                    \n",
    "        \n",
    "    \n"
   ]
  },
  {
   "cell_type": "code",
   "execution_count": 12,
   "metadata": {
    "scrolled": true
   },
   "outputs": [
    {
     "name": "stdout",
     "output_type": "stream",
     "text": [
      "U= 0.5 start sweep 0\n",
      "U= 0.5 start sweep 100\n",
      "U= 0.5 start sweep 200\n",
      "U= 0.5 start sweep 300\n",
      "U= 0.5 start sweep 400\n",
      "U= 0.5 start sweep 500\n",
      "U= 0.5 start sweep 600\n",
      "U= 0.5 start sweep 700\n",
      "U= 0.5 start sweep 800\n",
      "U= 0.5 start sweep 900\n",
      "U= 1 start sweep 0\n",
      "U= 1 start sweep 100\n",
      "U= 1 start sweep 200\n",
      "U= 1 start sweep 300\n",
      "U= 1 start sweep 400\n",
      "U= 1 start sweep 500\n",
      "U= 1 start sweep 600\n",
      "U= 1 start sweep 700\n",
      "U= 1 start sweep 800\n",
      "U= 1 start sweep 900\n",
      "U= 1.5 start sweep 0\n",
      "U= 1.5 start sweep 100\n",
      "U= 1.5 start sweep 200\n",
      "U= 1.5 start sweep 300\n",
      "U= 1.5 start sweep 400\n",
      "U= 1.5 start sweep 500\n",
      "U= 1.5 start sweep 600\n",
      "U= 1.5 start sweep 700\n",
      "U= 1.5 start sweep 800\n",
      "U= 1.5 start sweep 900\n",
      "U= 2 start sweep 0\n",
      "U= 2 start sweep 100\n",
      "U= 2 start sweep 200\n",
      "U= 2 start sweep 300\n",
      "U= 2 start sweep 400\n",
      "U= 2 start sweep 500\n",
      "U= 2 start sweep 600\n",
      "U= 2 start sweep 700\n",
      "U= 2 start sweep 800\n",
      "U= 2 start sweep 900\n",
      "U= 2.5 start sweep 0\n",
      "U= 2.5 start sweep 100\n",
      "U= 2.5 start sweep 200\n",
      "U= 2.5 start sweep 300\n",
      "U= 2.5 start sweep 400\n",
      "U= 2.5 start sweep 500\n",
      "U= 2.5 start sweep 600\n",
      "U= 2.5 start sweep 700\n",
      "U= 2.5 start sweep 800\n",
      "U= 2.5 start sweep 900\n",
      "U= 3 start sweep 0\n",
      "U= 3 start sweep 100\n",
      "U= 3 start sweep 200\n",
      "U= 3 start sweep 300\n",
      "U= 3 start sweep 400\n",
      "U= 3 start sweep 500\n",
      "U= 3 start sweep 600\n",
      "U= 3 start sweep 700\n",
      "U= 3 start sweep 800\n",
      "U= 3 start sweep 900\n",
      "U= 3.5 start sweep 0\n",
      "U= 3.5 start sweep 100\n",
      "U= 3.5 start sweep 200\n",
      "U= 3.5 start sweep 300\n",
      "U= 3.5 start sweep 400\n",
      "U= 3.5 start sweep 500\n",
      "U= 3.5 start sweep 600\n",
      "U= 3.5 start sweep 700\n",
      "U= 3.5 start sweep 800\n",
      "U= 3.5 start sweep 900\n",
      "U= 4 start sweep 0\n",
      "U= 4 start sweep 100\n",
      "U= 4 start sweep 200\n",
      "U= 4 start sweep 300\n",
      "U= 4 start sweep 400\n",
      "U= 4 start sweep 500\n",
      "U= 4 start sweep 600\n",
      "U= 4 start sweep 700\n",
      "U= 4 start sweep 800\n",
      "U= 4 start sweep 900\n",
      "U= 4.5 start sweep 0\n",
      "U= 4.5 start sweep 100\n",
      "U= 4.5 start sweep 200\n",
      "U= 4.5 start sweep 300\n",
      "U= 4.5 start sweep 400\n",
      "U= 4.5 start sweep 500\n",
      "U= 4.5 start sweep 600\n",
      "U= 4.5 start sweep 700\n",
      "U= 4.5 start sweep 800\n",
      "U= 4.5 start sweep 900\n"
     ]
    }
   ],
   "source": [
    "for i in range(len(U_list)):\n",
    "    Ek_list[i],D_list[i],S_list[i]=Markov_simulation(U_list[i])"
   ]
  },
  {
   "cell_type": "code",
   "execution_count": 13,
   "metadata": {},
   "outputs": [
    {
     "data": {
      "text/plain": [
       "Text(0, 0.5, '$E_k$')"
      ]
     },
     "execution_count": 13,
     "metadata": {},
     "output_type": "execute_result"
    },
    {
     "data": {
      "image/png": "[encoded data removed]",
      "text/plain": [
       "<Figure size 432x288 with 1 Axes>"
      ]
     },
     "metadata": {
      "needs_background": "light"
     },
     "output_type": "display_data"
    }
   ],
   "source": [
    "plt.errorbar(U_list,Ek_list[:,0],Ek_list[:,1],fmt='o--',ecolor='hotpink',elinewidth=2,capsize=3,capthick=2)\n",
    "plt.xlabel(r'$U/t$',{'size':15})\n",
    "plt.ylabel(r'$E_k$',{'size':15})"
   ]
  },
  {
   "cell_type": "code",
   "execution_count": 14,
   "metadata": {},
   "outputs": [
    {
     "data": {
      "text/plain": [
       "Text(0, 0.5, '$<n_{i\\\\uparrow}n_{i\\\\downarrow}>$')"
      ]
     },
     "execution_count": 14,
     "metadata": {},
     "output_type": "execute_result"
    },
    {
     "data": {
      "image/png": "[encoded data removed]",
      "text/plain": [
       "<Figure size 432x288 with 1 Axes>"
      ]
     },
     "metadata": {
      "needs_background": "light"
     },
     "output_type": "display_data"
    }
   ],
   "source": [
    "plt.errorbar(U_list,D_list[:,0],D_list[:,1],fmt='o--',ecolor='hotpink',elinewidth=2,capsize=3,capthick=2)\n",
    "plt.xlabel(r'$U/t$',{'size':15})\n",
    "plt.ylabel(r'$<n_{i\\uparrow}n_{i\\downarrow}>$',{'size':15})"
   ]
  },
  {
   "cell_type": "code",
   "execution_count": 15,
   "metadata": {},
   "outputs": [
    {
     "data": {
      "text/plain": [
       "Text(0, 0.5, '$S(\\\\pi,\\\\pi)$')"
      ]
     },
     "execution_count": 15,
     "metadata": {},
     "output_type": "execute_result"
    },
    {
     "data": {
      "image/png": "[encoded data removed]",
      "text/plain": [
       "<Figure size 432x288 with 1 Axes>"
      ]
     },
     "metadata": {
      "needs_background": "light"
     },
     "output_type": "display_data"
    }
   ],
   "source": [
    "plt.errorbar(U_list,S_list[:,0],S_list[:,1],fmt='o--',ecolor='hotpink',elinewidth=2,capsize=3,capthick=2)\n",
    "plt.xlabel(r'$U/t$',{'size':15})\n",
    "plt.ylabel(r'$S(\\pi,\\pi)$',{'size':15})"
   ]
  },
  {
   "cell_type": "code",
   "execution_count": null,
   "metadata": {},
   "outputs": [],
   "source": []
  }
 ],
 "metadata": {
  "kernelspec": {
   "display_name": "Python 3",
   "language": "python",
   "name": "python3"
  },
  "language_info": {
   "codemirror_mode": {
    "name": "ipython",
    "version": 3
   },
   "file_extension": ".py",
   "mimetype": "text/x-python",
   "name": "python",
   "nbconvert_exporter": "python",
   "pygments_lexer": "ipython3",
   "version": "3.8.5"
  }
 },
 "nbformat": 4,
 "nbformat_minor": 5
}
