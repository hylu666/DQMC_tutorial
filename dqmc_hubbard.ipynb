{
 "cells": [
  {
   "cell_type": "markdown",
   "metadata": {},
   "source": [
    "# DQMC\n"
   ]
  },
  {
   "cell_type": "markdown",
   "metadata": {},
   "source": [
    "## Hamiltonian & Partition function\n"
   ]
  },
  {
   "cell_type": "markdown",
   "metadata": {},
   "source": [
    "Use square-lattice Hubbard model as an example here. For detailed analytical derivation, please check https://quantummc.xyz/2020/10/11/dqmc-note/ .\n",
    "\n",
    "\n",
    "The half-filling Hamiltonian is: $$H=-t\\mathop{\\sum}\\limits_{<i,j>\\sigma}c_{i\\sigma}^\\dagger c_{j\\sigma}+h.c.+U\\mathop{\\sum}\\limits_i (n_{i\\uparrow}-\\frac{1}{2})(n_{i\\downarrow}-\\frac{1}{2}).$$\n",
    "\n",
    "After Trotter decomposition, the partition is $$Tr\\{e^{-\\beta H}\\}=Tr\\{(e^{-\\Delta\\tau H})^{L_\\tau}\\}$$\n",
    "\n",
    "For the kinetic energy, the sum for spin-up and spin-down are the same and for example it can be expressed as :\n",
    "$$H_0=c^\\dagger_\\uparrow T c_\\uparrow=-t\\mathop{\\sum}\\limits_{<i,j>}c_{i\\uparrow}^\\dagger c_{j\\uparrow}+h.c. $$ \n",
    "\n",
    "For the interaction,  it can be expressed as :\n",
    "$$H_U=U\\mathop{\\sum}\\limits_i (n_{i\\uparrow}-\\frac{1}{2})(n_{i\\downarrow}-\\frac{1}{2})=-\\frac{U}{2}(n_\\uparrow-n_\\downarrow)^2+\\frac{U}{4}$$For details, check https://journals.aps.org/prb/abstract/10.1103/PhysRevB.7.432 .\n",
    "After HS transformation: $$e^{-\\Delta\\tau H_U}=\\gamma\\sum_{s=\\pm 1}e^{\\alpha s(n_\\uparrow-n_\\downarrow)},$$ with $\\gamma=\\frac{1}{2}e^{-\\Delta\\tau U/4}$, and $\\cosh(\\alpha)=e^{\\Delta\\tau U/2}$.\n",
    "\n",
    "Therefore, the expanded partition function is:\n",
    "$$Z=\\sum_{s_{i, l}=\\pm 1}\\gamma^{NL_\\tau}Tr_F\\{ \\prod_{l=1}^{L_\\tau}[(\\prod_ie^{\\alpha s_{i,l}n_{i\\uparrow}})(e^{-\\Delta\\tau c_\\uparrow^\\dagger T c_\\uparrow})(\\prod_ie^{-\\alpha s_{i,l}n_{i\\downarrow}})(e^{-\\Delta\\tau c_\\downarrow^\\dagger T c_\\downarrow}) ]\\}=\\gamma^{NL_\\tau}\\sum_{s_{i,j}}\\prod_{\\sigma=\\uparrow\\downarrow}Det[I+B^\\sigma(L_\\tau\\Delta\\tau,(L_\\tau-1)\\Delta\\tau)\\dots B^\\sigma(\\Delta\\tau,0)]$$\n",
    "where $B^{\\sigma=\\uparrow,\\downarrow}(l_2\\Delta\\tau,l_1\\Delta\\tau)=\\prod_{l=l_1+1}^{l_2}e^{\\alpha Diag(\\vec S_l)}e^{-\\Delta\\tau T}$ and Diag($\\vec S_l$) is a diagonal matrix with the diagonal elements being $s_{i,l}$.\n",
    "\n"
   ]
  },
  {
   "cell_type": "markdown",
   "metadata": {},
   "source": [
    "## Code"
   ]
  },
  {
   "cell_type": "markdown",
   "metadata": {},
   "source": [
    "Here, I will show the code for simulating square-lattice Hubbard model and measure kinetic energy $E_k$, double occupancy $D$, and structure factor $S(\\pi,\\pi)$ with changing $U$."
   ]
  },
  {
   "cell_type": "code",
   "execution_count": 4,
   "metadata": {},
   "outputs": [],
   "source": [
    "import numpy as np"
   ]
  },
  {
   "cell_type": "markdown",
   "metadata": {},
   "source": [
    "### Parameters"
   ]
  },
  {
   "cell_type": "code",
   "execution_count": 11,
   "metadata": {},
   "outputs": [],
   "source": [
    "Lx=4\n",
    "Ly=4\n",
    "L=Lx*Ly   # which is the number of lattice sites\n",
    "t=1       # hopping amplitude\n",
    "beta=4\n",
    "dt=0.1\n",
    "total_slices=int(beta/dt)\n",
    "def alpha(U):\n",
    "    return np.cosh(np.exp(dt*U/2)) \n",
    "\n",
    "N_wrap_interval=5; #deciding when to do stabilization\n",
    "I=np.identity(L)\n",
    "total_sweeps=2000;    #total MC steps\n",
    "N_warmup_sweep=1000;  # thermalization only, not measure\n",
    "\n",
    "U_list=[1,2,3,4,5]\n",
    "Ek_list=np.zeros(len(U_list))\n",
    "D_list=np.zeros(len(U_list))\n",
    "S_list=np.zeros(len(U_list))\n"
   ]
  },
  {
   "cell_type": "markdown",
   "metadata": {},
   "source": [
    "### T matrix"
   ]
  },
  {
   "cell_type": "code",
   "execution_count": null,
   "metadata": {},
   "outputs": [],
   "source": [
    "matrix_T=np.zeros(L,L)   #define T matrix"
   ]
  }
 ],
 "metadata": {
  "kernelspec": {
   "display_name": "Python 3",
   "language": "python",
   "name": "python3"
  },
  "language_info": {
   "codemirror_mode": {
    "name": "ipython",
    "version": 3
   },
   "file_extension": ".py",
   "mimetype": "text/x-python",
   "name": "python",
   "nbconvert_exporter": "python",
   "pygments_lexer": "ipython3",
   "version": "3.8.5"
  }
 },
 "nbformat": 4,
 "nbformat_minor": 5
}
